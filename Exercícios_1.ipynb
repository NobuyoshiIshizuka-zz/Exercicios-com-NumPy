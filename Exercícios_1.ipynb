{
 "cells": [
  {
   "cell_type": "markdown",
   "id": "54738973",
   "metadata": {},
   "source": []
  },
  {
   "cell_type": "code",
   "execution_count": 4,
   "id": "a05a2d4c",
   "metadata": {},
   "outputs": [],
   "source": [
    "import numpy as np\n",
    "\n",
    "n = np.array([1,2,3,4])"
   ]
  },
  {
   "cell_type": "code",
   "execution_count": 6,
   "id": "0d3d9d1c",
   "metadata": {},
   "outputs": [
    {
     "data": {
      "text/plain": [
       "(4,)"
      ]
     },
     "execution_count": 6,
     "metadata": {},
     "output_type": "execute_result"
    }
   ],
   "source": [
    "#shape: uma tupla que contém o número de elementos (tamanho) em cada dimensão do array;\n",
    "n.shape"
   ]
  },
  {
   "cell_type": "code",
   "execution_count": 7,
   "id": "79cf5a8f",
   "metadata": {},
   "outputs": [
    {
     "data": {
      "text/plain": [
       "4"
      ]
     },
     "execution_count": 7,
     "metadata": {},
     "output_type": "execute_result"
    }
   ],
   "source": [
    "#size: número total de elementos do array;\n",
    "n.size"
   ]
  },
  {
   "cell_type": "code",
   "execution_count": 9,
   "id": "ebacfe8a",
   "metadata": {},
   "outputs": [
    {
     "data": {
      "text/plain": [
       "1"
      ]
     },
     "execution_count": 9,
     "metadata": {},
     "output_type": "execute_result"
    }
   ],
   "source": [
    "#ndim: número de dimensões (eixos);\n",
    "n.ndim"
   ]
  },
  {
   "cell_type": "code",
   "execution_count": 10,
   "id": "08b8b03e",
   "metadata": {},
   "outputs": [
    {
     "data": {
      "text/plain": [
       "32"
      ]
     },
     "execution_count": 10,
     "metadata": {},
     "output_type": "execute_result"
    }
   ],
   "source": [
    "#nbytes: número de bytes utilizado no armazenamento dos dados\n",
    "n.nbytes"
   ]
  },
  {
   "cell_type": "code",
   "execution_count": 11,
   "id": "7012f5b7",
   "metadata": {},
   "outputs": [
    {
     "data": {
      "text/plain": [
       "dtype('int64')"
      ]
     },
     "execution_count": 11,
     "metadata": {},
     "output_type": "execute_result"
    }
   ],
   "source": [
    "dtype: data type dos elementos do array.\n",
    "n.dtype"
   ]
  },
  {
   "cell_type": "code",
   "execution_count": 15,
   "id": "d504da22",
   "metadata": {},
   "outputs": [
    {
     "name": "stdout",
     "output_type": "stream",
     "text": [
      "<class 'numpy.ndarray'>\n"
     ]
    }
   ],
   "source": [
    "print(type(n))"
   ]
  },
  {
   "cell_type": "code",
   "execution_count": 17,
   "id": "559b3d9b",
   "metadata": {},
   "outputs": [
    {
     "ename": "AttributeError",
     "evalue": "'numpy.ndarray' object has no attribute 'info'",
     "output_type": "error",
     "traceback": [
      "\u001b[0;31m---------------------------------------------------------------------------\u001b[0m",
      "\u001b[0;31mAttributeError\u001b[0m                            Traceback (most recent call last)",
      "\u001b[0;32m<ipython-input-17-cb8a0b400705>\u001b[0m in \u001b[0;36m<module>\u001b[0;34m\u001b[0m\n\u001b[0;32m----> 1\u001b[0;31m \u001b[0mn\u001b[0m\u001b[0;34m.\u001b[0m\u001b[0minfo\u001b[0m\u001b[0;34m\u001b[0m\u001b[0;34m\u001b[0m\u001b[0m\n\u001b[0m",
      "\u001b[0;31mAttributeError\u001b[0m: 'numpy.ndarray' object has no attribute 'info'"
     ]
    }
   ],
   "source": [
    "n.info"
   ]
  },
  {
   "cell_type": "markdown",
   "id": "c79a0316",
   "metadata": {},
   "source": [
    "# Exercício 2\n",
    "\n",
    "Com base no exercício anterior crie uma função que receba um array e mostre na tela seus atributos. Verifique se o argumento inserido é de fato um objeto numpy. Use também a função built-in type() para verificar a classe do objeto.\n",
    "\n",
    "Retorno esperado:\n",
    "\n",
    "inspecionar_array(np.array([1,2,3]))\n",
    " \n",
    "- Shape : (3,)\n",
    "- Size:  3\n",
    "- Ndim:  1\n",
    "- Nbytes:  24\n",
    "- Dtype:  int64\n",
    "- Type:  <class 'numpy.ndarray'>\n",
    "- array([1, 2, 3, 4])\n",
    "\n",
    "\n",
    "- inspecionar_array([1,2,3])\n",
    " \n",
    "'O objeto inserido não é um array NumPy.'"
   ]
  },
  {
   "cell_type": "code",
   "execution_count": 5,
   "id": "0f191ed2",
   "metadata": {},
   "outputs": [],
   "source": [
    "def inspecionar_array(array):\n",
    "    if isinstance(array, np.ndarray):\n",
    "        print('Shape: ', array.shape)\n",
    "        print('Size: ', array.size)\n",
    "        print('Ndim: ', array.ndim)\n",
    "        print('Nbytes: ', array.nbytes)\n",
    "        print('Dtype: ', array.dtype)\n",
    "        print('Type: ', type(array))\n",
    "        return array\n",
    "    else:\n",
    "        return 'O objeto inserido não é um array NumPy.'"
   ]
  },
  {
   "cell_type": "code",
   "execution_count": 2,
   "id": "91a3e13f",
   "metadata": {},
   "outputs": [],
   "source": [
    "# Criando um array unimidensional\n",
    "array = np.array([1,2,3,4])"
   ]
  },
  {
   "cell_type": "code",
   "execution_count": 3,
   "id": "aae9f88b",
   "metadata": {},
   "outputs": [],
   "source": [
    "# Criando uma simples lista\n",
    "list_ = [1,2,3,4]"
   ]
  },
  {
   "cell_type": "code",
   "execution_count": 6,
   "id": "2a1d89ce",
   "metadata": {},
   "outputs": [
    {
     "name": "stdout",
     "output_type": "stream",
     "text": [
      "Shape:  (4,)\n",
      "Size:  4\n",
      "Ndim:  1\n",
      "Nbytes:  32\n",
      "Dtype:  int64\n",
      "Type:  <class 'numpy.ndarray'>\n"
     ]
    },
    {
     "data": {
      "text/plain": [
       "array([1, 2, 3, 4])"
      ]
     },
     "execution_count": 6,
     "metadata": {},
     "output_type": "execute_result"
    }
   ],
   "source": [
    "# chamando a função inspecinar_array para conferir se o objeto é um array\n",
    "inspecionar_array(array)"
   ]
  },
  {
   "cell_type": "code",
   "execution_count": 7,
   "id": "da4681df",
   "metadata": {},
   "outputs": [
    {
     "data": {
      "text/plain": [
       "'O objeto inserido não é um array NumPy.'"
      ]
     },
     "execution_count": 7,
     "metadata": {},
     "output_type": "execute_result"
    }
   ],
   "source": [
    "inspecionar_array(list_)"
   ]
  },
  {
   "cell_type": "markdown",
   "id": "793f4db6",
   "metadata": {},
   "source": [
    "# Exercício 3\n",
    "\n",
    "Use a função np.array() para criar os arrays unidimensionais listados abaixo:\n"
   ]
  },
  {
   "cell_type": "markdown",
   "id": "b40fe408",
   "metadata": {},
   "source": [
    "a) Use uma lista como argumento e obtenha:"
   ]
  },
  {
   "cell_type": "code",
   "execution_count": 10,
   "id": "ed3f0aef",
   "metadata": {},
   "outputs": [
    {
     "data": {
      "text/plain": [
       "array([[1, 2, 3, 4]])"
      ]
     },
     "execution_count": 10,
     "metadata": {},
     "output_type": "execute_result"
    }
   ],
   "source": [
    "import numpy as np\n",
    "\n",
    "lista = [1,2,3,4]\n",
    "\n",
    "arr = np.array([lista])\n",
    "\n",
    "arr"
   ]
  },
  {
   "cell_type": "markdown",
   "id": "3977aa0b",
   "metadata": {},
   "source": [
    "Use a função range() e obtenha:"
   ]
  },
  {
   "cell_type": "code",
   "execution_count": 12,
   "id": "1fa7fa58",
   "metadata": {},
   "outputs": [
    {
     "data": {
      "text/plain": [
       "array([ 1,  2,  3,  4,  5,  6,  7,  8,  9, 10])"
      ]
     },
     "execution_count": 12,
     "metadata": {},
     "output_type": "execute_result"
    }
   ],
   "source": [
    "import numpy as np\n",
    "\n",
    "arr = np.array(range(1,11))\n",
    "arr"
   ]
  },
  {
   "cell_type": "markdown",
   "id": "74c8c74b",
   "metadata": {},
   "source": [
    "c)Use uma tupla como argumento e obtenha:"
   ]
  },
  {
   "cell_type": "code",
   "execution_count": 16,
   "id": "6dd848fa",
   "metadata": {},
   "outputs": [
    {
     "data": {
      "text/plain": [
       "array([10, 11, 12, 13, 14])"
      ]
     },
     "execution_count": 16,
     "metadata": {},
     "output_type": "execute_result"
    }
   ],
   "source": [
    "tupla = (10,11,12,13,14)\n",
    "array3 = np.array(tupla)\n",
    "array3"
   ]
  },
  {
   "cell_type": "markdown",
   "id": "f9fa7c40",
   "metadata": {},
   "source": [
    "d) Use a função range() e obtenha:\n",
    "\n",
    "array([2020, 2010, 2000, 1990, 1980, 1970, 1960, 1950, 1940, 1930, 1920,\n",
    "           1910, 1900])"
   ]
  },
  {
   "cell_type": "code",
   "execution_count": 13,
   "id": "d7256689",
   "metadata": {},
   "outputs": [
    {
     "data": {
      "text/plain": [
       "array([2020, 2010, 2000, 1990, 1980, 1970, 1960, 1950, 1940, 1930, 1920,\n",
       "       1910, 1900])"
      ]
     },
     "execution_count": 13,
     "metadata": {},
     "output_type": "execute_result"
    }
   ],
   "source": [
    "# Exibe apenas o resultado da operação porém não foi armazenado em uma variavel\n",
    "np.array(range(2020,1899,-10 ))"
   ]
  },
  {
   "cell_type": "markdown",
   "id": "c33c4d2c",
   "metadata": {},
   "source": [
    "e) Use a função range() e obtenha:\n",
    "\n",
    "array([1990, 1995, 2000, 2005, 2010, 2015, 2020])"
   ]
  },
  {
   "cell_type": "code",
   "execution_count": 14,
   "id": "31c070b2",
   "metadata": {},
   "outputs": [
    {
     "data": {
      "text/plain": [
       "array([1990, 1995, 2000, 2005, 2010, 2015, 2020])"
      ]
     },
     "execution_count": 14,
     "metadata": {},
     "output_type": "execute_result"
    }
   ],
   "source": [
    "np.array(range(1990, 2021, 5))"
   ]
  },
  {
   "cell_type": "markdown",
   "id": "a2b7a548",
   "metadata": {},
   "source": [
    "f) Obtenha:\n",
    "array(100)"
   ]
  },
  {
   "cell_type": "code",
   "execution_count": 15,
   "id": "448a1d53",
   "metadata": {},
   "outputs": [
    {
     "data": {
      "text/plain": [
       "array(100)"
      ]
     },
     "execution_count": 15,
     "metadata": {},
     "output_type": "execute_result"
    }
   ],
   "source": [
    "np.array(100)"
   ]
  },
  {
   "cell_type": "markdown",
   "id": "10e3dee6",
   "metadata": {},
   "source": [
    "# Exercício 4\n",
    "\n",
    "A função np.ones() permite criar um array preenchido com o número 1 em todas as suas entradas. Podemos especificar como argumentos o shape e o tipo de dado dtype do array. Use esta função para criar os arrays a seguir:\n",
    "\n",
    "a)\n",
    "\n",
    "- array([1., 1., 1., 1., 1., 1., 1., 1., 1., 1.])"
   ]
  },
  {
   "cell_type": "code",
   "execution_count": 22,
   "id": "c2fd02a6",
   "metadata": {},
   "outputs": [
    {
     "data": {
      "text/plain": [
       "array([1., 1., 1., 1., 1., 1., 1., 1., 1., 1.])"
      ]
     },
     "execution_count": 22,
     "metadata": {},
     "output_type": "execute_result"
    }
   ],
   "source": [
    "import numpy as np\n",
    "\n",
    "one = np.ones(10)\n",
    "one"
   ]
  },
  {
   "cell_type": "markdown",
   "id": "1a6fc4e3",
   "metadata": {},
   "source": [
    "## b)\n",
    "\n",
    "\n",
    "\n",
    "array([[1., 1., 1., 1.],\n",
    "       [1., 1., 1., 1.],\n",
    "       [1., 1., 1., 1.],\n",
    "       [1., 1., 1., 1.]])"
   ]
  },
  {
   "cell_type": "code",
   "execution_count": 26,
   "id": "cd22a7fd",
   "metadata": {},
   "outputs": [
    {
     "data": {
      "text/plain": [
       "array([[1., 1., 1., 1.],\n",
       "       [1., 1., 1., 1.],\n",
       "       [1., 1., 1., 1.],\n",
       "       [1., 1., 1., 1.]])"
      ]
     },
     "execution_count": 26,
     "metadata": {},
     "output_type": "execute_result"
    }
   ],
   "source": [
    "# Não esquecer de colocar em dois parênteses\n",
    "one1 = np.ones((4,4))\n",
    "one1"
   ]
  },
  {
   "cell_type": "markdown",
   "id": "1d9d06fc",
   "metadata": {},
   "source": [
    "### c)\n",
    " \n",
    "C = np.ones((3,2), dtype=float)"
   ]
  },
  {
   "cell_type": "code",
   "execution_count": 31,
   "id": "f786fca7",
   "metadata": {},
   "outputs": [
    {
     "data": {
      "text/plain": [
       "array([[1., 1.],\n",
       "       [1., 1.],\n",
       "       [1., 1.],\n",
       "       [1., 1.]])"
      ]
     },
     "execution_count": 31,
     "metadata": {},
     "output_type": "execute_result"
    }
   ],
   "source": [
    "# Números 1 convertidos em float\n",
    "np.ones((4,2), dtype = float)"
   ]
  },
  {
   "cell_type": "markdown",
   "id": "e767bc0c",
   "metadata": {},
   "source": [
    "# Exercício 5\n",
    "A função np.zeros() permite criar um array preenchido com o número 0 em todas as suas entradas. Podemos especificar como argumentos o shape e o tipo de dado dtype do array (default é o float). Use esta função para criar os arrays a seguir:\n",
    "\n",
    "### a)\n",
    "\n",
    "\n",
    "\n",
    "array([0., 0., 0., 0., 0., 0., 0., 0., 0., 0.])"
   ]
  },
  {
   "cell_type": "code",
   "execution_count": 33,
   "id": "e13f0fbc",
   "metadata": {},
   "outputs": [
    {
     "data": {
      "text/plain": [
       "array([0., 0., 0., 0., 0., 0., 0., 0., 0., 0.])"
      ]
     },
     "execution_count": 33,
     "metadata": {},
     "output_type": "execute_result"
    }
   ],
   "source": [
    "import numpy as np\n",
    "\n",
    "zero = np.zeros(10)\n",
    "zero"
   ]
  },
  {
   "cell_type": "markdown",
   "id": "7e3ea40f",
   "metadata": {},
   "source": [
    "### b)\n",
    "\n",
    "\n",
    "\n",
    "array([[0., 0.],\n",
    "       [0., 0.]]) "
   ]
  },
  {
   "cell_type": "code",
   "execution_count": 37,
   "id": "0b8e5318",
   "metadata": {},
   "outputs": [
    {
     "data": {
      "text/plain": [
       "array([[0, 0],\n",
       "       [0, 0]])"
      ]
     },
     "execution_count": 37,
     "metadata": {},
     "output_type": "execute_result"
    }
   ],
   "source": [
    "np.zeros((2,2), dtype = int)"
   ]
  },
  {
   "cell_type": "code",
   "execution_count": 39,
   "id": "92af29f1",
   "metadata": {},
   "outputs": [
    {
     "data": {
      "text/plain": [
       "array([[0., 0., 0., 0., 0., 0.],\n",
       "       [0., 0., 0., 0., 0., 0.],\n",
       "       [0., 0., 0., 0., 0., 0.],\n",
       "       [0., 0., 0., 0., 0., 0.]])"
      ]
     },
     "execution_count": 39,
     "metadata": {},
     "output_type": "execute_result"
    }
   ],
   "source": [
    "np.zeros((4,6), dtype = float)"
   ]
  },
  {
   "cell_type": "markdown",
   "id": "7db9d2cb",
   "metadata": {},
   "source": [
    "# Exercício 6\n",
    "\n",
    "Crie os arrays a seguir:\n",
    "\n",
    "   \n",
    "\n",
    "### a)\n",
    "\n",
    "array([[10],\n",
    "       [15],\n",
    "       [20],\n",
    "       [25],\n",
    "       [30],\n",
    "       [35],\n",
    "       [40],\n",
    "       [45]])"
   ]
  },
  {
   "cell_type": "code",
   "execution_count": 45,
   "id": "c9ce9052",
   "metadata": {},
   "outputs": [
    {
     "data": {
      "text/plain": [
       "array([[10],\n",
       "       [15],\n",
       "       [20],\n",
       "       [25],\n",
       "       [30],\n",
       "       [35],\n",
       "       [40],\n",
       "       [45]])"
      ]
     },
     "execution_count": 45,
     "metadata": {},
     "output_type": "execute_result"
    }
   ],
   "source": [
    "import numpy as np\n",
    "\n",
    "np.arange(10,50,5).reshape(-1,1)"
   ]
  },
  {
   "cell_type": "markdown",
   "id": "e871ca9e",
   "metadata": {},
   "source": [
    "### b)\n",
    "\n",
    "\n",
    "\n",
    "array([-50, -45, -40, -35, -30, -25, -20, -15, -10,  -5])"
   ]
  },
  {
   "cell_type": "code",
   "execution_count": 47,
   "id": "866debab",
   "metadata": {},
   "outputs": [
    {
     "data": {
      "text/plain": [
       "array([-50, -45, -40, -35, -30, -25, -20, -15, -10,  -5])"
      ]
     },
     "execution_count": 47,
     "metadata": {},
     "output_type": "execute_result"
    }
   ],
   "source": [
    "np.arange(-50, 0, 5)"
   ]
  },
  {
   "cell_type": "code",
   "execution_count": 48,
   "id": "f4da4461",
   "metadata": {},
   "outputs": [
    {
     "ename": "ValueError",
     "evalue": "cannot reshape array of size 49 into shape (5,10)",
     "output_type": "error",
     "traceback": [
      "\u001b[0;31m---------------------------------------------------------------------------\u001b[0m",
      "\u001b[0;31mValueError\u001b[0m                                Traceback (most recent call last)",
      "\u001b[0;32m<ipython-input-48-751e5fdd32ac>\u001b[0m in \u001b[0;36m<module>\u001b[0;34m\u001b[0m\n\u001b[0;32m----> 1\u001b[0;31m \u001b[0mnp\u001b[0m\u001b[0;34m.\u001b[0m\u001b[0marange\u001b[0m\u001b[0;34m(\u001b[0m\u001b[0;36m50\u001b[0m\u001b[0;34m,\u001b[0m\u001b[0;36m148\u001b[0m\u001b[0;34m,\u001b[0m\u001b[0;36m2\u001b[0m\u001b[0;34m)\u001b[0m\u001b[0;34m.\u001b[0m\u001b[0mreshape\u001b[0m\u001b[0;34m(\u001b[0m\u001b[0;36m5\u001b[0m\u001b[0;34m,\u001b[0m\u001b[0;36m10\u001b[0m\u001b[0;34m)\u001b[0m\u001b[0;34m\u001b[0m\u001b[0;34m\u001b[0m\u001b[0m\n\u001b[0m",
      "\u001b[0;31mValueError\u001b[0m: cannot reshape array of size 49 into shape (5,10)"
     ]
    }
   ],
   "source": [
    "#Assim da erro temos que usar dois parênteses\n",
    "np.arange(50,150,2).reshape(5,10)"
   ]
  },
  {
   "cell_type": "code",
   "execution_count": 50,
   "id": "3b4ce2e1",
   "metadata": {},
   "outputs": [
    {
     "data": {
      "text/plain": [
       "array([[ 50,  52,  54,  56,  58,  60,  62,  64,  66,  68],\n",
       "       [ 70,  72,  74,  76,  78,  80,  82,  84,  86,  88],\n",
       "       [ 90,  92,  94,  96,  98, 100, 102, 104, 106, 108],\n",
       "       [110, 112, 114, 116, 118, 120, 122, 124, 126, 128],\n",
       "       [130, 132, 134, 136, 138, 140, 142, 144, 146, 148]])"
      ]
     },
     "execution_count": 50,
     "metadata": {},
     "output_type": "execute_result"
    }
   ],
   "source": [
    "np.arange(50,150,2).reshape((5,10))"
   ]
  },
  {
   "cell_type": "markdown",
   "id": "9e1074f3",
   "metadata": {},
   "source": [
    "# Exercício 7\n",
    "\n",
    "Utilize a função np.full(shape, fill_value, dtype) para criar os arrays a seguir. Esta função permite criar um array com um shape e dtype definidos pelo usuário, preenchido com um determinado valor.\n",
    "\n",
    "### a)\n",
    "\n",
    "\n",
    "\n",
    "array([5., 5., 5., 5., 5., 5., 5., 5., 5., 5.])"
   ]
  },
  {
   "cell_type": "code",
   "execution_count": 55,
   "id": "b94ad922",
   "metadata": {},
   "outputs": [
    {
     "data": {
      "text/plain": [
       "array([5, 5, 5, 5, 5, 5, 5, 5, 5, 5])"
      ]
     },
     "execution_count": 55,
     "metadata": {},
     "output_type": "execute_result"
    }
   ],
   "source": [
    "import numpy as np\n",
    "\n",
    "np.full(shape = 10, fill_value = 5, dtype = int)"
   ]
  },
  {
   "cell_type": "markdown",
   "id": "effc130c",
   "metadata": {},
   "source": [
    "### b)\n",
    "\n",
    "\n",
    "\n",
    "array([[-5., -5., -5., -5.],\n",
    "       [-5., -5., -5., -5.],\n",
    "       [-5., -5., -5., -5.],\n",
    "       [-5., -5., -5., -5.]])"
   ]
  },
  {
   "cell_type": "code",
   "execution_count": 56,
   "id": "01bdbfaf",
   "metadata": {},
   "outputs": [
    {
     "data": {
      "text/plain": [
       "array([[3., 3., 3.],\n",
       "       [3., 3., 3.],\n",
       "       [3., 3., 3.]])"
      ]
     },
     "execution_count": 56,
     "metadata": {},
     "output_type": "execute_result"
    }
   ],
   "source": [
    "np.full(shape = (3,3), fill_value = 3, dtype = float)"
   ]
  },
  {
   "cell_type": "markdown",
   "id": "30bba272",
   "metadata": {},
   "source": [
    "#### d\n",
    "\n",
    "array([[50, 50, 50, 50, 50, 50, 50, 50, 50, 50],\n",
    "       [50, 50, 50, 50, 50, 50, 50, 50, 50, 50],\n",
    "       [50, 50, 50, 50, 50, 50, 50, 50, 50, 50],\n",
    "       [50, 50, 50, 50, 50, 50, 50, 50, 50, 50],\n",
    "       [50, 50, 50, 50, 50, 50, 50, 50, 50, 50],\n",
    "       [50, 50, 50, 50, 50, 50, 50, 50, 50, 50],\n",
    "       [50, 50, 50, 50, 50, 50, 50, 50, 50, 50],\n",
    "       [50, 50, 50, 50, 50, 50, 50, 50, 50, 50],\n",
    "       [50, 50, 50, 50, 50, 50, 50, 50, 50, 50],\n",
    "       [50, 50, 50, 50, 50, 50, 50, 50, 50, 50]])"
   ]
  },
  {
   "cell_type": "code",
   "execution_count": 57,
   "id": "11b1b041",
   "metadata": {},
   "outputs": [
    {
     "data": {
      "text/plain": [
       "array([[50, 50, 50, 50, 50, 50, 50, 50, 50, 50],\n",
       "       [50, 50, 50, 50, 50, 50, 50, 50, 50, 50],\n",
       "       [50, 50, 50, 50, 50, 50, 50, 50, 50, 50],\n",
       "       [50, 50, 50, 50, 50, 50, 50, 50, 50, 50],\n",
       "       [50, 50, 50, 50, 50, 50, 50, 50, 50, 50],\n",
       "       [50, 50, 50, 50, 50, 50, 50, 50, 50, 50],\n",
       "       [50, 50, 50, 50, 50, 50, 50, 50, 50, 50],\n",
       "       [50, 50, 50, 50, 50, 50, 50, 50, 50, 50],\n",
       "       [50, 50, 50, 50, 50, 50, 50, 50, 50, 50],\n",
       "       [50, 50, 50, 50, 50, 50, 50, 50, 50, 50]])"
      ]
     },
     "execution_count": 57,
     "metadata": {},
     "output_type": "execute_result"
    }
   ],
   "source": [
    "np.full((10,10), 50, int)"
   ]
  },
  {
   "cell_type": "markdown",
   "id": "d8019b0a",
   "metadata": {},
   "source": [
    "Dica: outra possibilidade seria obter os arrays com uma operação diferente, a partir da multiplicação de uma matriz preenchida com número 1 por um determinado valor."
   ]
  },
  {
   "cell_type": "markdown",
   "id": "f16166d2",
   "metadata": {},
   "source": [
    "# Exercício 8\n",
    "Defina o array K e verifique se há dados ausentes (missing data). Use a função np.isnan().\n",
    "\n",
    "\n",
    "\n",
    "array([[ nan,   1.,  10.,   0.],\n",
    "       [ nan,  nan,  nan,  nan],\n",
    "       [100.,  50.,  nan, -25.],\n",
    "       [ 30.,  nan,  nan, 130.]])"
   ]
  },
  {
   "cell_type": "code",
   "execution_count": 67,
   "id": "8cb890e3",
   "metadata": {},
   "outputs": [],
   "source": [
    "import numpy as np\n",
    "\n",
    "k = np.array([[ np.nan,   1.,  10.,   0.],\n",
    "       [ np.nan,  np.nan,  np.nan,  np.nan],\n",
    "       [100.,  50.,  np.nan, -25.],\n",
    "       [ 30.,  np.nan,  np.nan, 130.]\n",
    "])"
   ]
  },
  {
   "cell_type": "code",
   "execution_count": 68,
   "id": "cb74b4a7",
   "metadata": {},
   "outputs": [
    {
     "data": {
      "text/plain": [
       "array([[ nan,   1.,  10.,   0.],\n",
       "       [ nan,  nan,  nan,  nan],\n",
       "       [100.,  50.,  nan, -25.],\n",
       "       [ 30.,  nan,  nan, 130.]])"
      ]
     },
     "execution_count": 68,
     "metadata": {},
     "output_type": "execute_result"
    }
   ],
   "source": [
    "k"
   ]
  },
  {
   "cell_type": "code",
   "execution_count": 69,
   "id": "0d5c5fe4",
   "metadata": {},
   "outputs": [
    {
     "data": {
      "text/plain": [
       "array([[ True, False, False, False],\n",
       "       [ True,  True,  True,  True],\n",
       "       [False, False,  True, False],\n",
       "       [False,  True,  True, False]])"
      ]
     },
     "execution_count": 69,
     "metadata": {},
     "output_type": "execute_result"
    }
   ],
   "source": [
    "np.isnan(k)"
   ]
  },
  {
   "cell_type": "code",
   "execution_count": 65,
   "id": "87ca7ac6",
   "metadata": {},
   "outputs": [],
   "source": [
    "k = np.isnan(k)"
   ]
  },
  {
   "cell_type": "code",
   "execution_count": 66,
   "id": "4690826d",
   "metadata": {},
   "outputs": [
    {
     "data": {
      "text/plain": [
       "array([[ True, False, False, False],\n",
       "       [ True,  True,  True,  True],\n",
       "       [False, False,  True, False],\n",
       "       [False,  True,  True, False]])"
      ]
     },
     "execution_count": 66,
     "metadata": {},
     "output_type": "execute_result"
    }
   ],
   "source": [
    "k"
   ]
  },
  {
   "cell_type": "code",
   "execution_count": 71,
   "id": "95e3db26",
   "metadata": {},
   "outputs": [
    {
     "name": "stdout",
     "output_type": "stream",
     "text": [
      "[[ True False False False]\n",
      " [ True  True  True  True]\n",
      " [False False  True False]\n",
      " [False  True  True False]]\n"
     ]
    }
   ],
   "source": [
    "print(np.isnan(k))"
   ]
  },
  {
   "cell_type": "code",
   "execution_count": 73,
   "id": "f859227c",
   "metadata": {},
   "outputs": [
    {
     "name": "stdout",
     "output_type": "stream",
     "text": [
      "Há 8 dados ausentes em k\n"
     ]
    }
   ],
   "source": [
    "# Soma a quantidade de dados ausentes em k\n",
    "print(f'Há {np.isnan(k).sum()} dados ausentes em k')"
   ]
  },
  {
   "cell_type": "markdown",
   "id": "d2c8671d",
   "metadata": {},
   "source": [
    "# Exercício 9\n",
    "A função np.linspace() retorna um array com números contendo espaçamento uniforme em um intervalo definido. Crie um array com números dentro do intervalo [1,21] em 5 partes.\n",
    "\n",
    "Retorno esperado:\n",
    "\n",
    "\n",
    "\n",
    "array([ 1.,  6., 11., 16., 21.])"
   ]
  },
  {
   "cell_type": "code",
   "execution_count": 75,
   "id": "93114470",
   "metadata": {},
   "outputs": [
    {
     "data": {
      "text/plain": [
       "array([ 1.,  6., 11., 16., 21.])"
      ]
     },
     "execution_count": 75,
     "metadata": {},
     "output_type": "execute_result"
    }
   ],
   "source": [
    "import numpy as np\n",
    "\n",
    "np.linspace(1,21,5)"
   ]
  },
  {
   "cell_type": "markdown",
   "id": "681152df",
   "metadata": {},
   "source": [
    "# Exercício 10\n",
    "A função np.logspace() retorna números com espaçamento uniforme em uma escala logarítmica. Crie um array com números dentro do intervalo [1, 51] em 10 partes com a função np.logspace().\n",
    "\n",
    "Retorno esperado:\n",
    "\n",
    "\n",
    "\n",
    "array([[1.00000000e+01],\n",
    "       [3.59381366e+06],\n",
    "       [1.29154967e+12],\n",
    "       [4.64158883e+17],\n",
    "       [1.66810054e+23],\n",
    "       [5.99484250e+28],\n",
    "       [2.15443469e+34],\n",
    "       [7.74263683e+39],\n",
    "       [2.78255940e+45],\n",
    "       [1.00000000e+51]])"
   ]
  },
  {
   "cell_type": "code",
   "execution_count": 77,
   "id": "e81e7e8b",
   "metadata": {},
   "outputs": [
    {
     "data": {
      "text/plain": [
       "array([[1.00000000e+01],\n",
       "       [3.59381366e+06],\n",
       "       [1.29154967e+12],\n",
       "       [4.64158883e+17],\n",
       "       [1.66810054e+23],\n",
       "       [5.99484250e+28],\n",
       "       [2.15443469e+34],\n",
       "       [7.74263683e+39],\n",
       "       [2.78255940e+45],\n",
       "       [1.00000000e+51]])"
      ]
     },
     "execution_count": 77,
     "metadata": {},
     "output_type": "execute_result"
    }
   ],
   "source": [
    "import numpy as np\n",
    "\n",
    "np.logspace(1,51,10).reshape(-1,1)"
   ]
  },
  {
   "cell_type": "markdown",
   "id": "597d1ab9",
   "metadata": {},
   "source": [
    "# Exercício 11\n",
    "Use a função np.diag() para construir o array a seguir:\n",
    "\n",
    "\n",
    "\n",
    "array([[ 5,  0,  0,  0,  0,  0],\n",
    "       [ 0, 10,  0,  0,  0,  0],\n",
    "       [ 0,  0, 15,  0,  0,  0],\n",
    "       [ 0,  0,  0, 20,  0,  0],\n",
    "       [ 0,  0,  0,  0, 25,  0],\n",
    "       [ 0,  0,  0,  0,  0, 30]])"
   ]
  },
  {
   "cell_type": "code",
   "execution_count": 78,
   "id": "b16ce6c3",
   "metadata": {},
   "outputs": [
    {
     "data": {
      "text/plain": [
       "array([[ 5,  0,  0,  0,  0,  0],\n",
       "       [ 0, 10,  0,  0,  0,  0],\n",
       "       [ 0,  0, 15,  0,  0,  0],\n",
       "       [ 0,  0,  0, 20,  0,  0],\n",
       "       [ 0,  0,  0,  0, 25,  0],\n",
       "       [ 0,  0,  0,  0,  0, 30]])"
      ]
     },
     "execution_count": 78,
     "metadata": {},
     "output_type": "execute_result"
    }
   ],
   "source": [
    "import numpy as np\n",
    "\n",
    "np.diag(range(5,31,5))"
   ]
  },
  {
   "cell_type": "markdown",
   "id": "c828db27",
   "metadata": {},
   "source": [
    "# Exercício 12\n",
    "Use a função np.eye() (ou ainda np.identity()) para obter o array seguir.\n",
    "\n",
    "\n",
    "\n",
    "array([[1., 0., 0., 0., 0., 0., 0., 0., 0., 0.],\n",
    "       [0., 1., 0., 0., 0., 0., 0., 0., 0., 0.],\n",
    "       [0., 0., 1., 0., 0., 0., 0., 0., 0., 0.],\n",
    "       [0., 0., 0., 1., 0., 0., 0., 0., 0., 0.],\n",
    "       [0., 0., 0., 0., 1., 0., 0., 0., 0., 0.],\n",
    "       [0., 0., 0., 0., 0., 1., 0., 0., 0., 0.],\n",
    "       [0., 0., 0., 0., 0., 0., 1., 0., 0., 0.],\n",
    "       [0., 0., 0., 0., 0., 0., 0., 1., 0., 0.],\n",
    "       [0., 0., 0., 0., 0., 0., 0., 0., 1., 0.],\n",
    "       [0., 0., 0., 0., 0., 0., 0., 0., 0., 1.]])\n",
    "\n",
    "\n",
    "Dica: essa matriz é definida como matriz identidade, neste caso de ordem 10, e assume grande relevância em diversos cálculos computacionais, como veremos mais adiante."
   ]
  },
  {
   "cell_type": "code",
   "execution_count": 79,
   "id": "9e9bfc3f",
   "metadata": {},
   "outputs": [
    {
     "data": {
      "text/plain": [
       "array([[1., 0., 0., 0., 0., 0., 0., 0., 0., 0.],\n",
       "       [0., 1., 0., 0., 0., 0., 0., 0., 0., 0.],\n",
       "       [0., 0., 1., 0., 0., 0., 0., 0., 0., 0.],\n",
       "       [0., 0., 0., 1., 0., 0., 0., 0., 0., 0.],\n",
       "       [0., 0., 0., 0., 1., 0., 0., 0., 0., 0.],\n",
       "       [0., 0., 0., 0., 0., 1., 0., 0., 0., 0.],\n",
       "       [0., 0., 0., 0., 0., 0., 1., 0., 0., 0.],\n",
       "       [0., 0., 0., 0., 0., 0., 0., 1., 0., 0.],\n",
       "       [0., 0., 0., 0., 0., 0., 0., 0., 1., 0.],\n",
       "       [0., 0., 0., 0., 0., 0., 0., 0., 0., 1.]])"
      ]
     },
     "execution_count": 79,
     "metadata": {},
     "output_type": "execute_result"
    }
   ],
   "source": [
    "import numpy as np\n",
    "np.eye(10)"
   ]
  },
  {
   "cell_type": "code",
   "execution_count": 80,
   "id": "2094abc2",
   "metadata": {},
   "outputs": [
    {
     "data": {
      "text/plain": [
       "array([[1., 0., 0., 0., 0., 0., 0., 0., 0., 0.],\n",
       "       [0., 1., 0., 0., 0., 0., 0., 0., 0., 0.],\n",
       "       [0., 0., 1., 0., 0., 0., 0., 0., 0., 0.],\n",
       "       [0., 0., 0., 1., 0., 0., 0., 0., 0., 0.],\n",
       "       [0., 0., 0., 0., 1., 0., 0., 0., 0., 0.],\n",
       "       [0., 0., 0., 0., 0., 1., 0., 0., 0., 0.],\n",
       "       [0., 0., 0., 0., 0., 0., 1., 0., 0., 0.],\n",
       "       [0., 0., 0., 0., 0., 0., 0., 1., 0., 0.],\n",
       "       [0., 0., 0., 0., 0., 0., 0., 0., 1., 0.],\n",
       "       [0., 0., 0., 0., 0., 0., 0., 0., 0., 1.]])"
      ]
     },
     "execution_count": 80,
     "metadata": {},
     "output_type": "execute_result"
    }
   ],
   "source": [
    "np.identity(n = 10)"
   ]
  },
  {
   "cell_type": "markdown",
   "id": "23d547ff",
   "metadata": {},
   "source": [
    "# Exercício 14\n",
    "Obtenha a soma dos elementos de cada array a seguir. Use a função np.sum(). Implemente uma solução com loop for, para tanto armazene os vetores em uma lista.\n",
    "\n",
    "\n",
    "\n",
    "import numpy as np\n",
    "array1 = np.arange(1,11)\n",
    "array2 = np.linspace(1,50,10)\n",
    "array3 = np.array(range(51))\n",
    "array4 = np.logspace(1,10,5)\n",
    "array5 = np.diag(range(5,31,5))\n",
    "\n",
    "\n",
    "Retorno esperado:\n",
    "\n",
    "\n",
    "\n",
    "Soma dos elementos do array 1:  55\n",
    "Soma dos elementos do array 2:  255.0\n",
    "Soma dos elementos do array 3:  1275\n",
    "Soma dos elementos do array 4:  10056552148.564463"
   ]
  },
  {
   "cell_type": "code",
   "execution_count": null,
   "id": "fe2f44d6",
   "metadata": {},
   "outputs": [],
   "source": [
    "import numpy as np\n",
    "\n"
   ]
  },
  {
   "cell_type": "code",
   "execution_count": 83,
   "id": "03fc7a6b",
   "metadata": {},
   "outputs": [
    {
     "data": {
      "text/plain": [
       "array([ 1,  2,  3,  4,  5,  6,  7,  8,  9, 10])"
      ]
     },
     "execution_count": 83,
     "metadata": {},
     "output_type": "execute_result"
    }
   ],
   "source": [
    "array1 = np.arange(1,11)\n",
    "array1"
   ]
  },
  {
   "cell_type": "code",
   "execution_count": 85,
   "id": "35b1b325",
   "metadata": {},
   "outputs": [
    {
     "data": {
      "text/plain": [
       "array([ 1.        ,  6.44444444, 11.88888889, 17.33333333, 22.77777778,\n",
       "       28.22222222, 33.66666667, 39.11111111, 44.55555556, 50.        ])"
      ]
     },
     "execution_count": 85,
     "metadata": {},
     "output_type": "execute_result"
    }
   ],
   "source": [
    "array2 = np.linspace(1,50,10)\n",
    "array2"
   ]
  },
  {
   "cell_type": "code",
   "execution_count": 87,
   "id": "754582f7",
   "metadata": {},
   "outputs": [
    {
     "data": {
      "text/plain": [
       "array([ 0,  1,  2,  3,  4,  5,  6,  7,  8,  9, 10, 11, 12, 13, 14, 15, 16,\n",
       "       17, 18, 19, 20, 21, 22, 23, 24, 25, 26, 27, 28, 29, 30, 31, 32, 33,\n",
       "       34, 35, 36, 37, 38, 39, 40, 41, 42, 43, 44, 45, 46, 47, 48, 49, 50])"
      ]
     },
     "execution_count": 87,
     "metadata": {},
     "output_type": "execute_result"
    }
   ],
   "source": [
    "array3 = np.array(range(51))\n",
    "array3"
   ]
  },
  {
   "cell_type": "code",
   "execution_count": 88,
   "id": "c665b8ab",
   "metadata": {},
   "outputs": [
    {
     "data": {
      "text/plain": [
       "array([1.00000000e+01, 4.39397056e+01, 1.93069773e+02, 8.48342898e+02,\n",
       "       3.72759372e+03, 1.63789371e+04, 7.19685673e+04, 3.16227766e+05,\n",
       "       1.38949549e+06, 6.10540230e+06, 2.68269580e+07, 1.17876863e+08,\n",
       "       5.17947468e+08, 2.27584593e+09, 1.00000000e+10])"
      ]
     },
     "execution_count": 88,
     "metadata": {},
     "output_type": "execute_result"
    }
   ],
   "source": [
    "array4 = np.logspace(1,10,15)\n",
    "array4"
   ]
  },
  {
   "cell_type": "code",
   "execution_count": 89,
   "id": "6f3834a4",
   "metadata": {},
   "outputs": [],
   "source": [
    "array5 = np.diag(range(5,31,5))\n"
   ]
  },
  {
   "cell_type": "code",
   "execution_count": 99,
   "id": "bfe68681",
   "metadata": {},
   "outputs": [
    {
     "data": {
      "text/plain": [
       "[array([ 1,  2,  3,  4,  5,  6,  7,  8,  9, 10]),\n",
       " array([ 1.        ,  6.44444444, 11.88888889, 17.33333333, 22.77777778,\n",
       "        28.22222222, 33.66666667, 39.11111111, 44.55555556, 50.        ]),\n",
       " array([ 0,  1,  2,  3,  4,  5,  6,  7,  8,  9, 10, 11, 12, 13, 14, 15, 16,\n",
       "        17, 18, 19, 20, 21, 22, 23, 24, 25, 26, 27, 28, 29, 30, 31, 32, 33,\n",
       "        34, 35, 36, 37, 38, 39, 40, 41, 42, 43, 44, 45, 46, 47, 48, 49, 50]),\n",
       " array([1.00000000e+01, 4.39397056e+01, 1.93069773e+02, 8.48342898e+02,\n",
       "        3.72759372e+03, 1.63789371e+04, 7.19685673e+04, 3.16227766e+05,\n",
       "        1.38949549e+06, 6.10540230e+06, 2.68269580e+07, 1.17876863e+08,\n",
       "        5.17947468e+08, 2.27584593e+09, 1.00000000e+10]),\n",
       " array([[ 5,  0,  0,  0,  0,  0],\n",
       "        [ 0, 10,  0,  0,  0,  0],\n",
       "        [ 0,  0, 15,  0,  0,  0],\n",
       "        [ 0,  0,  0, 20,  0,  0],\n",
       "        [ 0,  0,  0,  0, 25,  0],\n",
       "        [ 0,  0,  0,  0,  0, 30]])]"
      ]
     },
     "execution_count": 99,
     "metadata": {},
     "output_type": "execute_result"
    }
   ],
   "source": [
    "arrays = [array1,array2,array3,array4,array5]\n",
    "arrays"
   ]
  },
  {
   "cell_type": "code",
   "execution_count": 98,
   "id": "474548dd",
   "metadata": {},
   "outputs": [
    {
     "name": "stdout",
     "output_type": "stream",
     "text": [
      "Soma dos elementos do array 1 55\n",
      "Soma dos elementos do array 2 255.0\n",
      "Soma dos elementos do array 3 1275\n",
      "Soma dos elementos do array 4 12946401511.437511\n",
      "Soma dos elementos do array 5 105\n"
     ]
    }
   ],
   "source": [
    "\n",
    "for index, array in enumerate(arrays, start = 1):\n",
    "    print(f'Soma dos elementos do array {index}', array.sum())"
   ]
  },
  {
   "cell_type": "markdown",
   "id": "efe9cf45",
   "metadata": {},
   "source": [
    "# Exercício 15\n",
    "A partir da matriz definida abaixo obtenha: a) soma total dos elementos; b) soma das linhas ; c) soma das colunas.\n",
    "\n",
    "\n",
    "\n",
    "import numpy as np\n",
    "\n",
    "matriz = np.array(np.random.randint(1,100,15)).reshape(5,3)\n",
    "\n"
   ]
  },
  {
   "cell_type": "code",
   "execution_count": 100,
   "id": "8e2944eb",
   "metadata": {},
   "outputs": [
    {
     "data": {
      "text/plain": [
       "array([[61, 57, 32],\n",
       "       [11, 25, 72],\n",
       "       [34, 16, 21],\n",
       "       [66,  3, 52],\n",
       "       [74, 82, 34]])"
      ]
     },
     "execution_count": 100,
     "metadata": {},
     "output_type": "execute_result"
    }
   ],
   "source": [
    "import numpy as np\n",
    "\n",
    "matriz = np.array(np.random.randint(1,100,15).reshape(5,3))\n",
    "matriz"
   ]
  },
  {
   "cell_type": "code",
   "execution_count": 105,
   "id": "74608054",
   "metadata": {},
   "outputs": [
    {
     "name": "stdout",
     "output_type": "stream",
     "text": [
      "Soma total dos elementos:  640\n"
     ]
    }
   ],
   "source": [
    "print('Soma total dos elementos: ', matriz.sum())"
   ]
  },
  {
   "cell_type": "code",
   "execution_count": 107,
   "id": "2e22d11e",
   "metadata": {},
   "outputs": [
    {
     "name": "stdout",
     "output_type": "stream",
     "text": [
      "Soma total das linhas:  [150 108  71 121 190]\n"
     ]
    }
   ],
   "source": [
    "print('Soma total das linhas: ', matriz.sum(axis = 1))"
   ]
  },
  {
   "cell_type": "code",
   "execution_count": 108,
   "id": "f42bb8d9",
   "metadata": {},
   "outputs": [
    {
     "name": "stdout",
     "output_type": "stream",
     "text": [
      "Soma total das colunas:  [246 183 211]\n"
     ]
    }
   ],
   "source": [
    "print('Soma total das colunas: ', matriz.sum(axis = 0))"
   ]
  },
  {
   "cell_type": "markdown",
   "id": "5576f3a6",
   "metadata": {},
   "source": [
    "# Exercício 16\n",
    "Obtenha o valor máximo e o valor mínimo de cada array abaixo. Implemente uma solução com loop for.\n",
    "\n",
    "\n",
    "\n",
    "- import numpy as np\n",
    "- array1 = np.array([-1, 10, 3, 4, 7, 27])\n",
    "- array2 = np.random.randint(-100,300,30)\n",
    "-  array3 = np.random.randn(10)\n",
    "- array4 = np.array(range(50,10,-2))\n",
    "\n",
    "\n",
    "Dica: para obter o valor máximo e mínimo de um array podemos usar array.max() e array.min() ( ou ainda max(array) e min(array))."
   ]
  },
  {
   "cell_type": "code",
   "execution_count": 109,
   "id": "50f181cf",
   "metadata": {},
   "outputs": [],
   "source": [
    "import numpy as np\n",
    "\n",
    "array1 = np.array([-1,10,3,4,7,27])\n",
    "array2 = np.random.randint(-100,300,30)\n",
    "array3 = np.random.randn(10)\n",
    "array4 = np.array(range(50,10,-2))\n",
    "arrays = [array1,array2, array3,array4]"
   ]
  },
  {
   "cell_type": "code",
   "execution_count": 114,
   "id": "2b744132",
   "metadata": {},
   "outputs": [
    {
     "name": "stdout",
     "output_type": "stream",
     "text": [
      "Array 0\n",
      "Valor máximo 10\n",
      "Valor mínimo 1\n",
      "\n",
      "Array 1\n",
      "Valor máximo 50.0\n",
      "Valor mínimo 1.0\n",
      "\n",
      "Array 2\n",
      "Valor máximo 50\n",
      "Valor mínimo 0\n",
      "\n",
      "Array 3\n",
      "Valor máximo 10000000000.0\n",
      "Valor mínimo 10.0\n",
      "\n",
      "Array 4\n",
      "Valor máximo 30\n",
      "Valor mínimo 0\n",
      "\n"
     ]
    }
   ],
   "source": [
    "for index, elemento in enumerate(arrays):\n",
    "    print(f'Array {index}')\n",
    "    print(f'Valor máximo {elemento.max()}')\n",
    "    print(f'Valor mínimo {elemento.min()}')\n",
    "    print()"
   ]
  },
  {
   "cell_type": "markdown",
   "id": "38242821",
   "metadata": {},
   "source": [
    "# Exercício 17\n",
    "Crie uma função que receba uma matriz como entrada e calcule:\n",
    "\n",
    "-    a) Valor máximo da matriz;\n",
    "\n",
    "-    b) Valor máximo por coluna;\n",
    "\n",
    "-    c) Valor máximo por linha;\n",
    "\n",
    "-    d) Valor mínimo da matriz;\n",
    "\n",
    " -   e) Valor mínimo por coluna;\n",
    "\n",
    " -   f) Valor mínimo por linha.\n",
    "\n",
    "\n",
    "\n",
    "Exemplo de retorno para a matriz definida abaixo:\n",
    "\n",
    "   \n",
    "\n",
    "Input:\n",
    "\n",
    "matriz = np.random.randint(-1000,1000,50).reshape(10,5)\n",
    "info_matriz(matriz)\n",
    "Output:\n",
    "\n",
    "- Valor máximo da matriz:  987\n",
    "- Valor máximo da matriz:  [959 987 597 748 719]\n",
    "- Valor máximo por linha:  [ 987  312  982  204  719  689  101  793 -460  959]\n",
    "- Valor máximo por linha:  -969\n",
    "- Valor mínimo por coluna:  [-878 -966 -969 -884 -881]\n",
    "- Valor mínimo por linha:  [  30 -878 -335 -863  -40 -289 -660 -239 -969 -966]"
   ]
  },
  {
   "cell_type": "code",
   "execution_count": 119,
   "id": "55a7c481",
   "metadata": {},
   "outputs": [],
   "source": [
    "def func(matrix):\n",
    "    if isinstance(matriz, np.ndarray) and matrix.ndim == 2:\n",
    "        print(f'Valor máximo da matriz: {matrix.max()}')\n",
    "        print(f'Valor máximo da matriz: {matrix.max(axis = 0)}')\n",
    "        print(f'Valor máximo por linha: {matrix.max(axis = 1)}')\n",
    "        print(f'Valor máximo por linha: {matrix.min()}')\n",
    "        print(f'Valor mínimo por coluna: {matrix.min(axis = 0)}')\n",
    "        print(f'Valor mínimo por linha: {matrix.min(axis = 1)}')\n",
    "    else:\n",
    "        return None"
   ]
  },
  {
   "cell_type": "code",
   "execution_count": 117,
   "id": "31dcde42",
   "metadata": {},
   "outputs": [
    {
     "data": {
      "text/plain": [
       "array([[ 780,  -80, -943, -742, -996],\n",
       "       [ -33, -773,  -33, -817, -271],\n",
       "       [ 398, -646,  125,  857,  779],\n",
       "       [ 223,  824,  556, -721, -632],\n",
       "       [-864,  806,  -49, -814, -631],\n",
       "       [ 945, -789,  -60,  506, -882],\n",
       "       [ 774, -693,  -64,   17,  865],\n",
       "       [-246,  556, -395,  473,   30],\n",
       "       [ 336,  459, -379,  247,   84],\n",
       "       [ 180, -457,  182,  559, -817]])"
      ]
     },
     "execution_count": 117,
     "metadata": {},
     "output_type": "execute_result"
    }
   ],
   "source": [
    "matriz = np.random.randint(-1000,1000,50).reshape(10,5)\n",
    "matriz"
   ]
  },
  {
   "cell_type": "code",
   "execution_count": 124,
   "id": "80bc8454",
   "metadata": {},
   "outputs": [
    {
     "name": "stdout",
     "output_type": "stream",
     "text": [
      "Valor máximo da matriz: 945\n",
      "Valor máximo da matriz: [945 824 556 857 865]\n",
      "Valor máximo por linha: [780 -33 857 824 806 945 865 556 459 559]\n",
      "Valor máximo por linha: -996\n",
      "Valor mínimo por coluna: [-864 -789 -943 -817 -996]\n",
      "Valor mínimo por linha: [-996 -817 -646 -721 -864 -882 -693 -395 -379 -817]\n"
     ]
    }
   ],
   "source": [
    "if __name__ == '__main__':\n",
    "    func(matriz)"
   ]
  },
  {
   "cell_type": "code",
   "execution_count": 125,
   "id": "6283e36e",
   "metadata": {},
   "outputs": [],
   "source": [
    "lista = [1,2,3,5]"
   ]
  },
  {
   "cell_type": "code",
   "execution_count": 126,
   "id": "649deae2",
   "metadata": {},
   "outputs": [
    {
     "ename": "AttributeError",
     "evalue": "'list' object has no attribute 'max'",
     "output_type": "error",
     "traceback": [
      "\u001b[0;31m---------------------------------------------------------------------------\u001b[0m",
      "\u001b[0;31mAttributeError\u001b[0m                            Traceback (most recent call last)",
      "\u001b[0;32m<ipython-input-126-3dec56f00d20>\u001b[0m in \u001b[0;36m<module>\u001b[0;34m\u001b[0m\n\u001b[0;32m----> 1\u001b[0;31m \u001b[0mfunc\u001b[0m\u001b[0;34m(\u001b[0m\u001b[0mlista\u001b[0m\u001b[0;34m)\u001b[0m\u001b[0;34m\u001b[0m\u001b[0;34m\u001b[0m\u001b[0m\n\u001b[0m",
      "\u001b[0;32m<ipython-input-119-8e27207afdc5>\u001b[0m in \u001b[0;36mfunc\u001b[0;34m(matrix)\u001b[0m\n\u001b[1;32m      1\u001b[0m \u001b[0;32mdef\u001b[0m \u001b[0mfunc\u001b[0m\u001b[0;34m(\u001b[0m\u001b[0mmatrix\u001b[0m\u001b[0;34m)\u001b[0m\u001b[0;34m:\u001b[0m\u001b[0;34m\u001b[0m\u001b[0;34m\u001b[0m\u001b[0m\n\u001b[1;32m      2\u001b[0m     \u001b[0;32mif\u001b[0m \u001b[0misinstance\u001b[0m\u001b[0;34m(\u001b[0m\u001b[0mmatriz\u001b[0m\u001b[0;34m,\u001b[0m \u001b[0mnp\u001b[0m\u001b[0;34m.\u001b[0m\u001b[0mndarray\u001b[0m\u001b[0;34m)\u001b[0m\u001b[0;34m:\u001b[0m\u001b[0;34m\u001b[0m\u001b[0;34m\u001b[0m\u001b[0m\n\u001b[0;32m----> 3\u001b[0;31m         \u001b[0mprint\u001b[0m\u001b[0;34m(\u001b[0m\u001b[0;34mf'Valor máximo da matriz: {matrix.max()}'\u001b[0m\u001b[0;34m)\u001b[0m\u001b[0;34m\u001b[0m\u001b[0;34m\u001b[0m\u001b[0m\n\u001b[0m\u001b[1;32m      4\u001b[0m         \u001b[0mprint\u001b[0m\u001b[0;34m(\u001b[0m\u001b[0;34mf'Valor máximo da matriz: {matrix.max(axis = 0)}'\u001b[0m\u001b[0;34m)\u001b[0m\u001b[0;34m\u001b[0m\u001b[0;34m\u001b[0m\u001b[0m\n\u001b[1;32m      5\u001b[0m         \u001b[0mprint\u001b[0m\u001b[0;34m(\u001b[0m\u001b[0;34mf'Valor máximo por linha: {matrix.max(axis = 1)}'\u001b[0m\u001b[0;34m)\u001b[0m\u001b[0;34m\u001b[0m\u001b[0;34m\u001b[0m\u001b[0m\n",
      "\u001b[0;31mAttributeError\u001b[0m: 'list' object has no attribute 'max'"
     ]
    }
   ],
   "source": [
    "func(lista)"
   ]
  },
  {
   "cell_type": "markdown",
   "id": "31d454de",
   "metadata": {},
   "source": [
    "# Exercício 18\n",
    "Com base no array definido abaixo obtenha sua média, mediana, variância e desvio padrão.\n",
    "\n",
    "\n",
    "\n",
    "import numpy as np\n",
    "arr = np.random.normal(40,0.5,size = (300))\n",
    "\n",
    "\n",
    "Dica:\n",
    "\n",
    "- Média: np.mean();\n",
    "\n",
    "- Mediana: np.median();\n",
    "\n",
    "- Desvio padrão: np.std();\n",
    "\n",
    "- Variância: np.var()."
   ]
  },
  {
   "cell_type": "code",
   "execution_count": 128,
   "id": "4cb3ca3b",
   "metadata": {},
   "outputs": [
    {
     "data": {
      "text/plain": [
       "array([39.65954583, 40.71785386, 38.77645972, 40.93172914, 39.80495428,\n",
       "       40.21619726, 38.63049418, 41.00585094, 39.28413766, 39.60122932,\n",
       "       40.09214686, 39.4738071 , 40.08446699, 40.3157963 , 40.23451529,\n",
       "       39.6349439 , 40.38242454, 39.3227198 , 40.04719448, 39.99256774,\n",
       "       39.27836343, 39.75927829, 40.16027774, 39.36180497, 39.68707558,\n",
       "       39.99426514, 40.14519733, 39.92111327, 39.97707806, 39.30558998,\n",
       "       40.1987879 , 40.1211927 , 39.8758513 , 40.63222854, 40.27985475,\n",
       "       40.96340934, 40.43567639, 40.5467907 , 39.6068207 , 40.13534083,\n",
       "       40.73923609, 39.01290987, 40.66334308, 40.62153938, 39.44652008,\n",
       "       39.68329584, 39.57339508, 39.99176425, 40.41452005, 40.25343958,\n",
       "       40.60721319, 40.51889938, 40.24566801, 40.1665863 , 39.48758876,\n",
       "       40.17332748, 40.18066177, 39.99997365, 39.44287133, 40.14996327,\n",
       "       39.56835888, 40.00077544, 40.9288927 , 40.35624141, 40.3950229 ,\n",
       "       40.22645074, 40.67120751, 39.89438788, 39.49183683, 40.96204087,\n",
       "       39.83401902, 40.02529008, 40.65897651, 40.76606055, 40.72837014,\n",
       "       40.29157467, 39.88397759, 40.27947284, 39.97077573, 40.6425577 ,\n",
       "       39.70625039, 39.23674242, 39.37387451, 40.59520502, 40.30938662,\n",
       "       39.44175858, 40.40518858, 39.99244329, 39.86064942, 39.76480156,\n",
       "       39.68591418, 40.83090869, 40.5239716 , 40.52636179, 40.55897269,\n",
       "       38.94216596, 39.36160786, 40.5902267 , 39.43950094, 40.7520814 ,\n",
       "       39.39513807, 39.83031607, 39.40409596, 40.1775371 , 39.11050437,\n",
       "       39.54841475, 40.57892935, 40.53661739, 39.89134669, 39.59067138,\n",
       "       40.25014541, 40.46928576, 39.94816589, 40.03932656, 40.13670948,\n",
       "       40.32487854, 41.06543897, 40.22517915, 39.39230239, 40.42244881,\n",
       "       39.45228842, 40.89431156, 39.97087335, 40.40019185, 40.02810658,\n",
       "       40.38367228, 39.68779697, 39.70192961, 39.26520844, 40.30457166,\n",
       "       39.61774266, 39.76658968, 40.5357624 , 39.54351726, 39.45515561,\n",
       "       39.42972511, 40.65080313, 39.53466849, 39.7025399 , 39.28488655,\n",
       "       39.88234337, 39.45402603, 40.16338988, 40.02771405, 40.30303763,\n",
       "       40.19958777, 40.29390421, 40.78566248, 39.94821019, 39.83517486,\n",
       "       40.41815045, 39.72932367, 40.0214403 , 39.3594865 , 40.35098716,\n",
       "       40.15755066, 40.14593497, 39.10137315, 40.92744002, 39.80050914,\n",
       "       40.51721358, 40.89777696, 39.60377288, 39.43192731, 39.99063639,\n",
       "       39.91912385, 40.37403689, 39.87687958, 39.81573535, 39.95449593,\n",
       "       39.95732416, 40.67089497, 40.56957184, 38.97702678, 40.69273218,\n",
       "       41.33605128, 40.36125139, 39.68084338, 39.18713541, 39.87381455,\n",
       "       40.26357494, 39.63772352, 40.308065  , 40.50057651, 40.69373702,\n",
       "       39.19455461, 40.63033709, 39.3325129 , 39.30519005, 39.79951825,\n",
       "       40.77885407, 40.74309769, 40.10660425, 40.46374428, 39.46160972,\n",
       "       40.15009061, 39.84520052, 39.86076404, 39.18325216, 40.00553703,\n",
       "       39.5968343 , 40.23195586, 39.93171624, 40.83991381, 39.75021955,\n",
       "       40.88173437, 39.7362758 , 40.49189193, 39.86062358, 39.96614935,\n",
       "       40.3647539 , 40.68119995, 40.29044116, 40.04347547, 39.2098005 ,\n",
       "       40.63867981, 40.35696557, 40.2621966 , 40.49739299, 40.43302261,\n",
       "       39.52128717, 39.46336399, 39.49184635, 38.81283545, 39.6793709 ,\n",
       "       40.24849795, 39.70013923, 40.68303497, 40.04009352, 39.15362499,\n",
       "       40.22185641, 39.57295115, 39.9476156 , 40.01888992, 39.65318694,\n",
       "       39.26950413, 40.27431273, 39.71190992, 40.13952977, 40.23597876,\n",
       "       40.0088355 , 40.82689345, 40.59803272, 40.56643857, 39.0582127 ,\n",
       "       40.05075765, 39.29808035, 39.11035132, 39.9476596 , 39.73796891,\n",
       "       40.10979998, 41.17297823, 39.4966487 , 39.96748266, 40.08559467,\n",
       "       39.27912428, 40.34184365, 40.18469291, 40.40315392, 39.34472389,\n",
       "       40.8792093 , 40.08495149, 40.68912765, 40.36170706, 39.8402735 ,\n",
       "       39.3296723 , 39.67924945, 40.09036521, 39.69301327, 38.59230999,\n",
       "       39.36749012, 39.76870221, 39.68305735, 39.52914205, 39.70558144,\n",
       "       39.81253251, 39.75535637, 40.11646668, 40.98113459, 39.71560029,\n",
       "       40.7737916 , 40.19015917, 40.37490671, 39.70405422, 40.2331035 ,\n",
       "       39.67028205, 40.5560137 , 40.72122538, 39.95359286, 40.28499173,\n",
       "       40.74512755, 40.02530237, 39.3518805 , 40.15420915, 39.74939547,\n",
       "       40.85252329, 39.97105636, 39.50234182, 41.23190013, 39.46170651])"
      ]
     },
     "execution_count": 128,
     "metadata": {},
     "output_type": "execute_result"
    }
   ],
   "source": [
    "import numpy as np\n",
    "\n",
    "arr = np.random.normal(40, 0.5, size = (300))\n",
    "arr"
   ]
  },
  {
   "cell_type": "code",
   "execution_count": 129,
   "id": "6fc34059",
   "metadata": {},
   "outputs": [
    {
     "data": {
      "text/plain": [
       "40.02308244524398"
      ]
     },
     "execution_count": 129,
     "metadata": {},
     "output_type": "execute_result"
    }
   ],
   "source": [
    "arr.mean()"
   ]
  },
  {
   "cell_type": "code",
   "execution_count": 135,
   "id": "3cf79b53",
   "metadata": {},
   "outputs": [
    {
     "data": {
      "text/plain": [
       "40.02336519360387"
      ]
     },
     "execution_count": 135,
     "metadata": {},
     "output_type": "execute_result"
    }
   ],
   "source": [
    "np.median(arr)"
   ]
  },
  {
   "cell_type": "code",
   "execution_count": 133,
   "id": "6de73c3f",
   "metadata": {},
   "outputs": [
    {
     "data": {
      "text/plain": [
       "0.5185025678858931"
      ]
     },
     "execution_count": 133,
     "metadata": {},
     "output_type": "execute_result"
    }
   ],
   "source": [
    "arr.std()"
   ]
  },
  {
   "cell_type": "code",
   "execution_count": 134,
   "id": "674735bd",
   "metadata": {},
   "outputs": [
    {
     "data": {
      "text/plain": [
       "0.2688449129042652"
      ]
     },
     "execution_count": 134,
     "metadata": {},
     "output_type": "execute_result"
    }
   ],
   "source": [
    "arr.var()"
   ]
  },
  {
   "cell_type": "code",
   "execution_count": 162,
   "id": "bbcbf7bf",
   "metadata": {},
   "outputs": [
    {
     "ename": "AttributeError",
     "evalue": "'numpy.ndarray' object has no attribute 'median'",
     "output_type": "error",
     "traceback": [
      "\u001b[0;31m---------------------------------------------------------------------------\u001b[0m",
      "\u001b[0;31mAttributeError\u001b[0m                            Traceback (most recent call last)",
      "\u001b[0;32m<ipython-input-162-7c81a09e4087>\u001b[0m in \u001b[0;36m<module>\u001b[0;34m\u001b[0m\n\u001b[0;32m----> 1\u001b[0;31m \u001b[0marr\u001b[0m\u001b[0;34m.\u001b[0m\u001b[0mmedian\u001b[0m\u001b[0;34m\u001b[0m\u001b[0;34m\u001b[0m\u001b[0m\n\u001b[0m",
      "\u001b[0;31mAttributeError\u001b[0m: 'numpy.ndarray' object has no attribute 'median'"
     ]
    }
   ],
   "source": [
    "arr.median"
   ]
  },
  {
   "cell_type": "markdown",
   "id": "3819595a",
   "metadata": {},
   "source": [
    "# Exercício 19\n",
    "Com base nos arrays definidos a seguir obtenha a matriz de covariância e a matriz de correlação.\n",
    "\n",
    "\n",
    "\n",
    "import numpy as np\n",
    "x = np.random.rand(100)\n",
    "y = np.random.uniform(size=100)\n",
    "\n",
    "\n",
    "Dica: use np.corrcoef() e np.cov()."
   ]
  },
  {
   "cell_type": "code",
   "execution_count": 137,
   "id": "46739d4a",
   "metadata": {},
   "outputs": [],
   "source": [
    "import numpy as np\n",
    "\n",
    "x = np.random.rand(100)\n",
    "y = np.random.uniform(size = 100)"
   ]
  },
  {
   "cell_type": "code",
   "execution_count": 138,
   "id": "7a63faae",
   "metadata": {},
   "outputs": [
    {
     "data": {
      "text/plain": [
       "array([0.31137385, 0.95466808, 0.45151103, 0.78067212, 0.82282532,\n",
       "       0.67755819, 0.88167246, 0.31829911, 0.94616612, 0.72679685,\n",
       "       0.99004402, 0.82983784, 0.52436298, 0.68215138, 0.39175858,\n",
       "       0.32004858, 0.37809923, 0.64910477, 0.35744567, 0.95351657,\n",
       "       0.65744011, 0.39258256, 0.01115301, 0.70672697, 0.69944048,\n",
       "       0.77833798, 0.648949  , 0.82177529, 0.34268485, 0.41773072,\n",
       "       0.83794388, 0.31238663, 0.49546807, 0.83369744, 0.91517691,\n",
       "       0.22698978, 0.56345186, 0.16724734, 0.85140407, 0.23198644,\n",
       "       0.09991333, 0.67456127, 0.91007226, 0.26001043, 0.01170932,\n",
       "       0.27425383, 0.6977672 , 0.79556468, 0.61094013, 0.48670024,\n",
       "       0.99364133, 0.3306753 , 0.60960463, 0.22174897, 0.69716544,\n",
       "       0.33935237, 0.78125411, 0.451125  , 0.93229112, 0.34492231,\n",
       "       0.51586331, 0.89830183, 0.38438047, 0.25786485, 0.80644818,\n",
       "       0.67465599, 0.35017295, 0.81286674, 0.49138501, 0.34611037,\n",
       "       0.83123882, 0.34003156, 0.85791385, 0.01717917, 0.94025566,\n",
       "       0.20741042, 0.04744025, 0.47658939, 0.15699722, 0.9370086 ,\n",
       "       0.12541394, 0.97141594, 0.61795713, 0.82051764, 0.31878245,\n",
       "       0.2167416 , 0.82763733, 0.30909861, 0.32575278, 0.70184039,\n",
       "       0.92009626, 0.2302585 , 0.18388509, 0.44247518, 0.01046205,\n",
       "       0.75247753, 0.63907824, 0.30327886, 0.87599476, 0.64464634])"
      ]
     },
     "execution_count": 138,
     "metadata": {},
     "output_type": "execute_result"
    }
   ],
   "source": [
    "x"
   ]
  },
  {
   "cell_type": "code",
   "execution_count": 139,
   "id": "8a90eb7b",
   "metadata": {},
   "outputs": [
    {
     "data": {
      "text/plain": [
       "array([3.31634043e-01, 2.26565475e-01, 8.26874512e-01, 3.34465268e-01,\n",
       "       2.42737867e-01, 6.58377378e-02, 8.67787690e-01, 3.30488561e-01,\n",
       "       5.95120537e-01, 1.16828963e-01, 8.40060768e-01, 8.19218928e-01,\n",
       "       6.89240610e-01, 2.37973838e-01, 1.81149788e-01, 7.04788652e-01,\n",
       "       6.61976157e-02, 9.62755654e-01, 8.58950944e-01, 5.31494322e-01,\n",
       "       6.10727377e-01, 8.05744956e-01, 6.82887860e-01, 3.31895061e-02,\n",
       "       1.58050426e-01, 8.94215158e-01, 8.24260062e-01, 6.05897052e-01,\n",
       "       7.57599262e-01, 1.03068271e-01, 7.91539589e-01, 5.63201791e-01,\n",
       "       3.60209519e-01, 5.87297440e-01, 2.96288066e-02, 6.70442268e-01,\n",
       "       2.14227571e-01, 4.23955621e-04, 9.40773646e-01, 1.32550353e-01,\n",
       "       2.19525635e-01, 7.78026036e-01, 5.42180714e-01, 3.95959314e-01,\n",
       "       1.03607583e-01, 8.74150973e-01, 7.16672034e-01, 2.19741409e-01,\n",
       "       8.56170534e-02, 4.42373106e-01, 2.33665466e-01, 1.10361382e-01,\n",
       "       3.39488839e-01, 5.22290816e-02, 4.88209914e-01, 7.84229233e-01,\n",
       "       6.43554410e-01, 9.50968860e-01, 1.76201518e-01, 1.37060417e-01,\n",
       "       5.26482349e-01, 9.82885315e-01, 9.41581917e-01, 5.17272177e-01,\n",
       "       3.10981863e-01, 5.03768524e-01, 1.57168230e-01, 9.52785413e-01,\n",
       "       7.26783293e-01, 2.61134312e-01, 3.09532840e-01, 1.61712593e-01,\n",
       "       8.05908951e-01, 3.81329877e-01, 9.29561208e-01, 3.21241783e-01,\n",
       "       2.03179057e-01, 5.84125400e-01, 2.12500823e-02, 3.21441039e-02,\n",
       "       2.42438575e-01, 2.51757336e-01, 4.94633146e-01, 8.15778282e-01,\n",
       "       5.67855611e-01, 7.79730300e-01, 8.39346210e-01, 7.32031850e-01,\n",
       "       8.01637736e-01, 1.84655690e-01, 3.16322754e-01, 7.62221311e-01,\n",
       "       9.22293367e-01, 5.85203644e-02, 4.83770313e-01, 9.69746702e-01,\n",
       "       9.82387933e-01, 3.26772590e-01, 4.54990983e-03, 9.06654533e-01])"
      ]
     },
     "execution_count": 139,
     "metadata": {},
     "output_type": "execute_result"
    }
   ],
   "source": [
    "y"
   ]
  },
  {
   "cell_type": "code",
   "execution_count": 142,
   "id": "fa227e05",
   "metadata": {},
   "outputs": [
    {
     "data": {
      "text/plain": [
       "array([[1.        , 0.12832299],\n",
       "       [0.12832299, 1.        ]])"
      ]
     },
     "execution_count": 142,
     "metadata": {},
     "output_type": "execute_result"
    }
   ],
   "source": [
    "np.corrcoef(x, y)"
   ]
  },
  {
   "cell_type": "code",
   "execution_count": 145,
   "id": "89d0ae5c",
   "metadata": {},
   "outputs": [
    {
     "data": {
      "text/plain": [
       "array([[0.07856164, 0.01114565],\n",
       "       [0.01114565, 0.09602649]])"
      ]
     },
     "execution_count": 145,
     "metadata": {},
     "output_type": "execute_result"
    }
   ],
   "source": [
    "np.cov(x, y)"
   ]
  },
  {
   "cell_type": "markdown",
   "id": "5bc1c002",
   "metadata": {},
   "source": [
    "# Exercício 20\n",
    "Obtenha o índice do valor máximo do array A.\n",
    "\n",
    "\n",
    "\n",
    "A = np.array([[11, 15, 33, 105],\n",
    "              [1, 140, 45, 90],\n",
    "              [67, 230, 78, 99]])\n",
    "\n",
    "\n",
    "Dica: use np.argmax() ou array.argmax()."
   ]
  },
  {
   "cell_type": "code",
   "execution_count": 146,
   "id": "6453c1de",
   "metadata": {},
   "outputs": [
    {
     "data": {
      "text/plain": [
       "array([[ 11,  15,  33, 105],\n",
       "       [  1, 140,  45,  90],\n",
       "       [ 67, 230,  78,  99]])"
      ]
     },
     "execution_count": 146,
     "metadata": {},
     "output_type": "execute_result"
    }
   ],
   "source": [
    "import numpy as np\n",
    "\n",
    "a = np.array(\n",
    "    [[11, 15, 33, 105],\n",
    "    [1, 140, 45, 90],\n",
    "    [67, 230, 78, 99]]\n",
    ")\n",
    "a"
   ]
  },
  {
   "cell_type": "code",
   "execution_count": 150,
   "id": "c2ec7a3e",
   "metadata": {},
   "outputs": [
    {
     "name": "stdout",
     "output_type": "stream",
     "text": [
      " O valor maximo de a é: 9\n"
     ]
    }
   ],
   "source": [
    "print(f' O valor maximo de a é: {a.argmax()}')"
   ]
  },
  {
   "cell_type": "code",
   "execution_count": 148,
   "id": "53a4bc83",
   "metadata": {},
   "outputs": [
    {
     "data": {
      "text/plain": [
       "9"
      ]
     },
     "execution_count": 148,
     "metadata": {},
     "output_type": "execute_result"
    }
   ],
   "source": [
    "np.argmax(a)"
   ]
  },
  {
   "cell_type": "markdown",
   "id": "561c483b",
   "metadata": {},
   "source": [
    "# Obtenha o índice do valor mínimo do array B.\n",
    "\n",
    "\n",
    "\n",
    "B = np.array([\n",
    "    [73, 22, 20, 62,  3],\n",
    "    [68, 84, 27, 59, 93],\n",
    "    [48, 52,  4, 55, 50],\n",
    "    [42, 23, 63, 67,  4],\n",
    "    [44, 30, 41, 31, 29]])\n",
    "\n",
    "\n",
    "Dica: use np.argmin() ou array.argmin()."
   ]
  },
  {
   "cell_type": "code",
   "execution_count": 151,
   "id": "1d444e17",
   "metadata": {},
   "outputs": [
    {
     "data": {
      "text/plain": [
       "array([[73, 22, 20, 62,  3],\n",
       "       [68, 84, 27, 59, 93],\n",
       "       [48, 52,  4, 55, 50],\n",
       "       [42, 23, 63, 67,  4],\n",
       "       [44, 30, 41, 31, 29]])"
      ]
     },
     "execution_count": 151,
     "metadata": {},
     "output_type": "execute_result"
    }
   ],
   "source": [
    "B = np.array(\n",
    "    [[73, 22, 20, 62,  3],\n",
    "    [68, 84, 27, 59, 93],\n",
    "    [48, 52,  4, 55, 50],\n",
    "    [42, 23, 63, 67,  4],\n",
    "    [44, 30, 41, 31, 29]]\n",
    ")\n",
    "\n",
    "B"
   ]
  },
  {
   "cell_type": "code",
   "execution_count": 152,
   "id": "8bbabc48",
   "metadata": {},
   "outputs": [
    {
     "name": "stdout",
     "output_type": "stream",
     "text": [
      "O válor do índice no menor valor de B é: 4\n"
     ]
    }
   ],
   "source": [
    "print(f'O válor do índice no menor valor de B é: {B.argmin()}')"
   ]
  },
  {
   "cell_type": "code",
   "execution_count": 154,
   "id": "dcab85e2",
   "metadata": {},
   "outputs": [
    {
     "name": "stdout",
     "output_type": "stream",
     "text": [
      "O válor do índice no menor valor de B é: 4\n"
     ]
    }
   ],
   "source": [
    "print(f'O válor do índice no menor valor de B é: {np.argmin(B)}')"
   ]
  },
  {
   "cell_type": "markdown",
   "id": "c8763a10",
   "metadata": {},
   "source": [
    "# Exercício 22\n",
    "Escreva uma função que receba um array NumPy e mostre na tela um conjunto de  estatísticas descritivas deste objeto.\n",
    "\n",
    "\n",
    "\n",
    "Resultado esperado:\n",
    "\n",
    "Input\n",
    "\n",
    "- array = np.array([-57, 101, 270, 130, 144])\n",
    "- info_array(array)\n",
    "\n",
    "\n",
    "Output:\n",
    "\n",
    "- Valor máximo: 270\n",
    "- Valor mínimo: -57\n",
    "- Média: 117.6\n",
    "- Mediana: 130.0\n",
    "- Variância: 10967.439999999999\n",
    "- Desvio padrão: 104.72554607162475"
   ]
  },
  {
   "cell_type": "code",
   "execution_count": 168,
   "id": "e779eefe",
   "metadata": {},
   "outputs": [],
   "source": [
    "import numpy as np\n",
    "\n",
    "def mostra_estatisticas(array):\n",
    "    if isinstance(array, np.ndarray):\n",
    "        print(f'Valor Máximo: {array.max()}')\n",
    "        print(f'Valor Minímo: {array.min()}')\n",
    "        print(f'Média: {array.mean()}')\n",
    "        print(f'Mediana: {np.median(array)}')\n",
    "        print(f'Variancia: {array.var()}')\n",
    "        print(f'Desvio Padrão: {array.std}')\n",
    "        return type(array)\n",
    "    else:\n",
    "        return None"
   ]
  },
  {
   "cell_type": "code",
   "execution_count": 167,
   "id": "a5b12de6",
   "metadata": {},
   "outputs": [],
   "source": [
    "B = np.array(\n",
    "    [[73, 22, 20, 62,  3],\n",
    "    [68, 84, 27, 59, 93],\n",
    "    [48, 52,  4, 55, 50],\n",
    "    [42, 23, 63, 67,  4],\n",
    "    [44, 30, 41, 31, 29]]\n",
    ")"
   ]
  },
  {
   "cell_type": "code",
   "execution_count": 156,
   "id": "07269d6c",
   "metadata": {},
   "outputs": [
    {
     "data": {
      "text/plain": [
       "numpy.ndarray"
      ]
     },
     "execution_count": 156,
     "metadata": {},
     "output_type": "execute_result"
    }
   ],
   "source": [
    "type(B)"
   ]
  },
  {
   "cell_type": "code",
   "execution_count": 170,
   "id": "8579b84a",
   "metadata": {},
   "outputs": [
    {
     "name": "stdout",
     "output_type": "stream",
     "text": [
      "Valor Máximo: 93\n",
      "Valor Minímo: 3\n",
      "Média: 43.76\n",
      "Mediana: 44.0\n",
      "Variancia: 574.6623999999999\n",
      "Desvio Padrão: <built-in method std of numpy.ndarray object at 0x7f59129282d0>\n"
     ]
    },
    {
     "data": {
      "text/plain": [
       "numpy.ndarray"
      ]
     },
     "execution_count": 170,
     "metadata": {},
     "output_type": "execute_result"
    }
   ],
   "source": [
    "mostra_estatisticas(B)"
   ]
  },
  {
   "cell_type": "markdown",
   "id": "b0b27bdf",
   "metadata": {},
   "source": [
    "# Exercício 23\n",
    "Use a função np.unique() para obter um array com os elementos únicos do array abaixo. Para tanto, armazene o novo array em uma variável.\n",
    "\n",
    "\n",
    "\n",
    "A = np.array([\n",
    "    [1, 3, 3, 4, 5],\n",
    "    [4, 7, 11, 3, 5],\n",
    "    [1, 11, 4, 4, 11]])"
   ]
  },
  {
   "cell_type": "code",
   "execution_count": 171,
   "id": "d7e3eb37",
   "metadata": {},
   "outputs": [
    {
     "data": {
      "text/plain": [
       "array([[ 1,  3,  3,  4,  5],\n",
       "       [ 4,  7, 11,  3,  5],\n",
       "       [ 1, 11,  4,  4, 11]])"
      ]
     },
     "execution_count": 171,
     "metadata": {},
     "output_type": "execute_result"
    }
   ],
   "source": [
    "import numpy as np\n",
    "\n",
    "A = np.array([\n",
    "    [1,3,3,4,5],\n",
    "    [4,7,11,3,5],\n",
    "    [1,11,4,4,11]\n",
    "])\n",
    "\n",
    "A"
   ]
  },
  {
   "cell_type": "code",
   "execution_count": 173,
   "id": "681707e4",
   "metadata": {},
   "outputs": [
    {
     "data": {
      "text/plain": [
       "array([ 1,  3,  4,  5,  7, 11])"
      ]
     },
     "execution_count": 173,
     "metadata": {},
     "output_type": "execute_result"
    }
   ],
   "source": [
    "np.unique(A)"
   ]
  },
  {
   "cell_type": "markdown",
   "id": "20a9f73d",
   "metadata": {},
   "source": [
    "# Exercício 24\n",
    "Indexação de arrays 1-D\n",
    "\n",
    "\n",
    "\n",
    "Considerando os arrays abaixo:\n",
    "\n",
    "\n",
    "\n",
    "- import numpy as np\n",
    "- array1 = np.array([10, 20, 30, 40])\n",
    "- array2 = np.array([100, 30, 5, 1, 40, 100, 20, 130, 155,170])\n",
    "   \n",
    "\n",
    "Obtenha:\n",
    "\n",
    "a) o primeiro, o terceiro e o último elemento de cada array;\n",
    "\n",
    "b) inverta o array;\n",
    "\n",
    "c) pegue o número 20 em ambos os arrays e armazene a soma em uma variável."
   ]
  },
  {
   "cell_type": "code",
   "execution_count": 174,
   "id": "8b39f87e",
   "metadata": {},
   "outputs": [],
   "source": [
    "import numpy as np\n",
    "\n",
    "array1 = np.array([10, 20, 30, 40])\n",
    "array2 = np.array([100, 30, 5, 1, 40, 100, 20, 130, 155,170])"
   ]
  },
  {
   "cell_type": "code",
   "execution_count": 178,
   "id": "d3f90d4f",
   "metadata": {},
   "outputs": [
    {
     "name": "stdout",
     "output_type": "stream",
     "text": [
      "Array 1\n",
      "Primeiro elemento 10\n",
      "Terceiro elemento: 30\n",
      "último elemento: 40\n",
      "array invertido: [40 30 20 10]\n",
      "Array 2\n",
      "Primeiro elemento 100\n",
      "Terceiro elemento: 5\n",
      "último elemento: 170\n",
      "array invertido: [170 155 130  20 100  40   1   5  30 100]\n"
     ]
    }
   ],
   "source": [
    "# Obtenha: o primeiro, o terceiro e o último elemento de cada array\n",
    "lista = [array1, array2]\n",
    "\n",
    "for index, i in enumerate(lista, start =1):\n",
    "    print(f'Array {index}')\n",
    "    print(f'Primeiro elemento {i[0]}')\n",
    "    print(f'Terceiro elemento: {i[2]}')\n",
    "    print(f'último elemento: {i[-1]}')\n",
    "    print(f'array invertido: {i[::-1]}')\n",
    "\n"
   ]
  },
  {
   "cell_type": "code",
   "execution_count": 180,
   "id": "b4bf6b95",
   "metadata": {},
   "outputs": [
    {
     "data": {
      "text/plain": [
       "40"
      ]
     },
     "execution_count": 180,
     "metadata": {},
     "output_type": "execute_result"
    }
   ],
   "source": [
    "soma = array1[1] + array2[6]\n",
    "soma\n"
   ]
  },
  {
   "cell_type": "markdown",
   "id": "0b7b18db",
   "metadata": {},
   "source": [
    "# Exercício 25\n",
    "Indexação de arrays 2-D\n",
    "\n",
    "\n",
    "\n",
    "Acesse os números 9 e 90 do array abaixo.\n",
    "\n",
    "\n",
    "\n",
    "- import numpy as np\n",
    "- ar = np.array([[-1, 33, 44, 9, 1],[11, 1, 0, 90, 44]])"
   ]
  },
  {
   "cell_type": "code",
   "execution_count": 183,
   "id": "cd467d99",
   "metadata": {},
   "outputs": [
    {
     "data": {
      "text/plain": [
       "array([[-1, 33, 44,  9,  1],\n",
       "       [11,  1,  0, 90, 44]])"
      ]
     },
     "execution_count": 183,
     "metadata": {},
     "output_type": "execute_result"
    }
   ],
   "source": [
    "import numpy as np\n",
    "\n",
    "ar = np.array([[-1, 33, 44, 9, 1],[11, 1, 0, 90, 44]])\n",
    "ar"
   ]
  },
  {
   "cell_type": "code",
   "execution_count": 190,
   "id": "68849dcc",
   "metadata": {},
   "outputs": [
    {
     "name": "stdout",
     "output_type": "stream",
     "text": [
      "9\n",
      "90\n"
     ]
    }
   ],
   "source": [
    "print(ar[0, -2])\n",
    "print(ar[1, -2])"
   ]
  },
  {
   "cell_type": "markdown",
   "id": "5307baa0",
   "metadata": {},
   "source": [
    "# Exercício 26\n",
    "Indexação de arrays 3-D\n",
    "\n",
    "\n",
    "\n",
    "Acesse os números 5, 9, 3 e 21 do array abaixo.\n",
    "\n",
    "\n",
    "\n",
    "- import numpy as np\n",
    "- ar = np.array([\n",
    "-     [[1, 1, 5, 1],\n",
    "-      [1, 1, 1, 9]],\n",
    "-     [[1, 3, 1, 1],\n",
    "-      [1, 1, 21, 1]]\n",
    "              ])"
   ]
  },
  {
   "cell_type": "code",
   "execution_count": 191,
   "id": "724b2790",
   "metadata": {},
   "outputs": [
    {
     "data": {
      "text/plain": [
       "array([[[ 1,  1,  5,  1],\n",
       "        [ 1,  1,  1,  9]],\n",
       "\n",
       "       [[ 1,  3,  1,  1],\n",
       "        [ 1,  1, 21,  1]]])"
      ]
     },
     "execution_count": 191,
     "metadata": {},
     "output_type": "execute_result"
    }
   ],
   "source": [
    "import numpy as np\n",
    "\n",
    "ar = np.array([\n",
    "    [[1, 1, 5, 1],\n",
    "    [1, 1, 1, 9]],\n",
    "    [[1, 3, 1, 1],\n",
    "    [1, 1, 21, 1]]\n",
    "])\n",
    "\n",
    "ar"
   ]
  },
  {
   "cell_type": "code",
   "execution_count": 197,
   "id": "7fd97cde",
   "metadata": {},
   "outputs": [
    {
     "name": "stdout",
     "output_type": "stream",
     "text": [
      "5\n",
      "9\n",
      "3\n",
      "21\n"
     ]
    }
   ],
   "source": [
    "print(ar[0][0][2])\n",
    "print(ar[0][1][-1])\n",
    "print(ar[1][0][1])\n",
    "print(ar[1][1][2])"
   ]
  },
  {
   "cell_type": "markdown",
   "id": "d3a10b67",
   "metadata": {},
   "source": [
    "# Exercício 27\n",
    "Slicing 1-D\n",
    "\n",
    "Com base no array abaixo obtenha o slice do índice 2 até o índice 6.\n",
    "\n",
    "\n",
    "\n",
    "- import numpy as np\n",
    "- ar = np.array([1, 2, 3, 4, 5, 6, 7, 8, 9, 10])\n",
    "\n",
    "\n",
    "Dica: Em Python, slicing significa que podemos selecionar elementos entre índices especificados. Sintaxe: [start:end:pass].\n",
    "\n",
    "Se não especificarmos o start o valor default será 0. Se não definirmos o step, será considerado o valor 1."
   ]
  },
  {
   "cell_type": "code",
   "execution_count": 198,
   "id": "273c4413",
   "metadata": {},
   "outputs": [
    {
     "data": {
      "text/plain": [
       "array([ 1,  2,  3,  4,  5,  6,  7,  8,  9, 10])"
      ]
     },
     "execution_count": 198,
     "metadata": {},
     "output_type": "execute_result"
    }
   ],
   "source": [
    "import numpy as np\n",
    "ar = np.array([1, 2, 3, 4, 5, 6, 7, 8, 9, 10])\n",
    "ar"
   ]
  },
  {
   "cell_type": "code",
   "execution_count": 201,
   "id": "d895d985",
   "metadata": {},
   "outputs": [
    {
     "name": "stdout",
     "output_type": "stream",
     "text": [
      "[ 2  3  4  5  6  7  8  9 10]\n"
     ]
    }
   ],
   "source": [
    "print(ar[1:10])"
   ]
  },
  {
   "cell_type": "code",
   "execution_count": null,
   "id": "967732bd",
   "metadata": {},
   "outputs": [],
   "source": []
  },
  {
   "cell_type": "code",
   "execution_count": null,
   "id": "5653f94f",
   "metadata": {},
   "outputs": [],
   "source": []
  },
  {
   "cell_type": "code",
   "execution_count": null,
   "id": "17f1a597",
   "metadata": {},
   "outputs": [],
   "source": []
  },
  {
   "cell_type": "code",
   "execution_count": null,
   "id": "fd4a8149",
   "metadata": {},
   "outputs": [],
   "source": []
  },
  {
   "cell_type": "code",
   "execution_count": null,
   "id": "b7d34733",
   "metadata": {},
   "outputs": [],
   "source": []
  },
  {
   "cell_type": "code",
   "execution_count": null,
   "id": "680f6142",
   "metadata": {},
   "outputs": [],
   "source": []
  },
  {
   "cell_type": "code",
   "execution_count": null,
   "id": "dc929244",
   "metadata": {},
   "outputs": [],
   "source": []
  }
 ],
 "metadata": {
  "kernelspec": {
   "display_name": "Python 3",
   "language": "python",
   "name": "python3"
  },
  "language_info": {
   "codemirror_mode": {
    "name": "ipython",
    "version": 3
   },
   "file_extension": ".py",
   "mimetype": "text/x-python",
   "name": "python",
   "nbconvert_exporter": "python",
   "pygments_lexer": "ipython3",
   "version": "3.8.8"
  }
 },
 "nbformat": 4,
 "nbformat_minor": 5
}
