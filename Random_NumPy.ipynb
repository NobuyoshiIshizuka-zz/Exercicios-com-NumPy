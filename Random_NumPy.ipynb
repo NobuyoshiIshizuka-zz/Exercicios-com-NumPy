{
 "cells": [
  {
   "cell_type": "markdown",
   "id": "17685979",
   "metadata": {},
   "source": [
    "Exercício 8\n",
    "Gere um array com números aleatórios entre -1000 e 3000, de shape (30, 5).\n",
    "Dica: np.random.randint().."
   ]
  },
  {
   "cell_type": "code",
   "execution_count": 3,
   "id": "e3ac435c",
   "metadata": {},
   "outputs": [
    {
     "data": {
      "text/plain": [
       "array([[-0.31682075, -0.7735198 , -0.52966697,  0.67505643,  0.77300843],\n",
       "       [ 0.52211607, -1.8125516 ,  0.59071099, -0.6540438 , -0.30952293],\n",
       "       [-0.62308149,  0.39978647,  0.20716501, -0.89230137,  0.07824021],\n",
       "       [-0.92022801,  0.48937801,  0.42878237,  0.61539179, -0.1292745 ]])"
      ]
     },
     "execution_count": 3,
     "metadata": {},
     "output_type": "execute_result"
    }
   ],
   "source": [
    "import numpy as np\n",
    "\n",
    "A = np.random.normal(size = (4,5))\n",
    "A"
   ]
  },
  {
   "cell_type": "markdown",
   "id": "cab9ce21",
   "metadata": {},
   "source": [
    "# Exercício 2\n",
    "Gere uma distribuição normal aleatória com de ordem 20 x 5, com média 10 e desvio padrão 3. Armazene o resultado em uma variável. Em seguida crie um DataFrame a partir dos dados criados."
   ]
  },
  {
   "cell_type": "code",
   "execution_count": 9,
   "id": "2d285f2a",
   "metadata": {},
   "outputs": [
    {
     "data": {
      "text/html": [
       "<div>\n",
       "<style scoped>\n",
       "    .dataframe tbody tr th:only-of-type {\n",
       "        vertical-align: middle;\n",
       "    }\n",
       "\n",
       "    .dataframe tbody tr th {\n",
       "        vertical-align: top;\n",
       "    }\n",
       "\n",
       "    .dataframe thead th {\n",
       "        text-align: right;\n",
       "    }\n",
       "</style>\n",
       "<table border=\"1\" class=\"dataframe\">\n",
       "  <thead>\n",
       "    <tr style=\"text-align: right;\">\n",
       "      <th></th>\n",
       "      <th>A</th>\n",
       "      <th>B</th>\n",
       "      <th>C</th>\n",
       "      <th>D</th>\n",
       "      <th>E</th>\n",
       "    </tr>\n",
       "  </thead>\n",
       "  <tbody>\n",
       "    <tr>\n",
       "      <th>1</th>\n",
       "      <td>6.665202</td>\n",
       "      <td>11.253577</td>\n",
       "      <td>14.336559</td>\n",
       "      <td>12.621490</td>\n",
       "      <td>9.255748</td>\n",
       "    </tr>\n",
       "    <tr>\n",
       "      <th>2</th>\n",
       "      <td>3.781947</td>\n",
       "      <td>11.464140</td>\n",
       "      <td>13.974018</td>\n",
       "      <td>11.774275</td>\n",
       "      <td>9.960044</td>\n",
       "    </tr>\n",
       "    <tr>\n",
       "      <th>3</th>\n",
       "      <td>5.865767</td>\n",
       "      <td>12.007939</td>\n",
       "      <td>4.251467</td>\n",
       "      <td>7.220169</td>\n",
       "      <td>11.501577</td>\n",
       "    </tr>\n",
       "    <tr>\n",
       "      <th>4</th>\n",
       "      <td>8.096454</td>\n",
       "      <td>7.685470</td>\n",
       "      <td>13.963599</td>\n",
       "      <td>5.312190</td>\n",
       "      <td>11.841074</td>\n",
       "    </tr>\n",
       "    <tr>\n",
       "      <th>5</th>\n",
       "      <td>8.473261</td>\n",
       "      <td>7.279091</td>\n",
       "      <td>9.944226</td>\n",
       "      <td>8.266894</td>\n",
       "      <td>14.212955</td>\n",
       "    </tr>\n",
       "    <tr>\n",
       "      <th>6</th>\n",
       "      <td>14.665764</td>\n",
       "      <td>11.567986</td>\n",
       "      <td>9.414166</td>\n",
       "      <td>17.035301</td>\n",
       "      <td>10.439662</td>\n",
       "    </tr>\n",
       "    <tr>\n",
       "      <th>7</th>\n",
       "      <td>7.511718</td>\n",
       "      <td>14.136612</td>\n",
       "      <td>11.532027</td>\n",
       "      <td>13.492207</td>\n",
       "      <td>7.822265</td>\n",
       "    </tr>\n",
       "    <tr>\n",
       "      <th>8</th>\n",
       "      <td>15.047309</td>\n",
       "      <td>7.622805</td>\n",
       "      <td>8.921229</td>\n",
       "      <td>7.315973</td>\n",
       "      <td>7.630327</td>\n",
       "    </tr>\n",
       "    <tr>\n",
       "      <th>9</th>\n",
       "      <td>8.891259</td>\n",
       "      <td>12.468913</td>\n",
       "      <td>14.406918</td>\n",
       "      <td>10.588240</td>\n",
       "      <td>7.675078</td>\n",
       "    </tr>\n",
       "    <tr>\n",
       "      <th>10</th>\n",
       "      <td>10.758566</td>\n",
       "      <td>17.168203</td>\n",
       "      <td>7.620924</td>\n",
       "      <td>11.962451</td>\n",
       "      <td>8.083154</td>\n",
       "    </tr>\n",
       "    <tr>\n",
       "      <th>11</th>\n",
       "      <td>13.550341</td>\n",
       "      <td>11.606484</td>\n",
       "      <td>11.059857</td>\n",
       "      <td>7.178596</td>\n",
       "      <td>10.484848</td>\n",
       "    </tr>\n",
       "    <tr>\n",
       "      <th>12</th>\n",
       "      <td>11.534270</td>\n",
       "      <td>12.675633</td>\n",
       "      <td>18.523890</td>\n",
       "      <td>13.693446</td>\n",
       "      <td>12.516794</td>\n",
       "    </tr>\n",
       "    <tr>\n",
       "      <th>13</th>\n",
       "      <td>5.183261</td>\n",
       "      <td>8.140216</td>\n",
       "      <td>10.844689</td>\n",
       "      <td>10.640098</td>\n",
       "      <td>14.252605</td>\n",
       "    </tr>\n",
       "    <tr>\n",
       "      <th>14</th>\n",
       "      <td>5.982324</td>\n",
       "      <td>14.352725</td>\n",
       "      <td>7.913951</td>\n",
       "      <td>7.849603</td>\n",
       "      <td>8.684199</td>\n",
       "    </tr>\n",
       "    <tr>\n",
       "      <th>15</th>\n",
       "      <td>7.370777</td>\n",
       "      <td>7.859433</td>\n",
       "      <td>10.339730</td>\n",
       "      <td>10.774050</td>\n",
       "      <td>14.830836</td>\n",
       "    </tr>\n",
       "    <tr>\n",
       "      <th>16</th>\n",
       "      <td>14.125013</td>\n",
       "      <td>9.773851</td>\n",
       "      <td>11.248258</td>\n",
       "      <td>11.278609</td>\n",
       "      <td>9.064431</td>\n",
       "    </tr>\n",
       "    <tr>\n",
       "      <th>17</th>\n",
       "      <td>5.487002</td>\n",
       "      <td>14.604390</td>\n",
       "      <td>10.329229</td>\n",
       "      <td>5.724962</td>\n",
       "      <td>15.545193</td>\n",
       "    </tr>\n",
       "    <tr>\n",
       "      <th>18</th>\n",
       "      <td>9.353225</td>\n",
       "      <td>9.863670</td>\n",
       "      <td>11.626194</td>\n",
       "      <td>6.001884</td>\n",
       "      <td>10.506480</td>\n",
       "    </tr>\n",
       "    <tr>\n",
       "      <th>19</th>\n",
       "      <td>8.935199</td>\n",
       "      <td>7.657123</td>\n",
       "      <td>13.306852</td>\n",
       "      <td>11.676459</td>\n",
       "      <td>10.458090</td>\n",
       "    </tr>\n",
       "    <tr>\n",
       "      <th>20</th>\n",
       "      <td>8.441177</td>\n",
       "      <td>12.188151</td>\n",
       "      <td>9.286723</td>\n",
       "      <td>9.575084</td>\n",
       "      <td>10.326338</td>\n",
       "    </tr>\n",
       "  </tbody>\n",
       "</table>\n",
       "</div>"
      ],
      "text/plain": [
       "            A          B          C          D          E\n",
       "1    6.665202  11.253577  14.336559  12.621490   9.255748\n",
       "2    3.781947  11.464140  13.974018  11.774275   9.960044\n",
       "3    5.865767  12.007939   4.251467   7.220169  11.501577\n",
       "4    8.096454   7.685470  13.963599   5.312190  11.841074\n",
       "5    8.473261   7.279091   9.944226   8.266894  14.212955\n",
       "6   14.665764  11.567986   9.414166  17.035301  10.439662\n",
       "7    7.511718  14.136612  11.532027  13.492207   7.822265\n",
       "8   15.047309   7.622805   8.921229   7.315973   7.630327\n",
       "9    8.891259  12.468913  14.406918  10.588240   7.675078\n",
       "10  10.758566  17.168203   7.620924  11.962451   8.083154\n",
       "11  13.550341  11.606484  11.059857   7.178596  10.484848\n",
       "12  11.534270  12.675633  18.523890  13.693446  12.516794\n",
       "13   5.183261   8.140216  10.844689  10.640098  14.252605\n",
       "14   5.982324  14.352725   7.913951   7.849603   8.684199\n",
       "15   7.370777   7.859433  10.339730  10.774050  14.830836\n",
       "16  14.125013   9.773851  11.248258  11.278609   9.064431\n",
       "17   5.487002  14.604390  10.329229   5.724962  15.545193\n",
       "18   9.353225   9.863670  11.626194   6.001884  10.506480\n",
       "19   8.935199   7.657123  13.306852  11.676459  10.458090\n",
       "20   8.441177  12.188151   9.286723   9.575084  10.326338"
      ]
     },
     "execution_count": 9,
     "metadata": {},
     "output_type": "execute_result"
    }
   ],
   "source": [
    "import pandas as pd\n",
    "\n",
    "from numpy import random\n",
    "media = 10\n",
    "desvio_padrao = 3\n",
    "data = random.normal(loc = media, scale = desvio_padrao, size=(20, 5))\n",
    "df = pd.DataFrame(data, columns = list('ABCDE'), index = range(1, data.shape[0]+1))\n",
    "df"
   ]
  },
  {
   "cell_type": "markdown",
   "id": "4cd30b43",
   "metadata": {},
   "source": [
    "# Exercício 3\n",
    "Gere uma distribuição normal padrão e utilize o módulo Seaborn para construir uma visualização dos dados. A amostra deve conter 3000 números. Use a função distplot() do módulo Seaborn e importe também"
   ]
  },
  {
   "cell_type": "code",
   "execution_count": 15,
   "id": "8a3f7374",
   "metadata": {},
   "outputs": [],
   "source": [
    "import matplotlib.pyplot as plt\n",
    "import seaborn as sns\n",
    "from numpy import random"
   ]
  },
  {
   "cell_type": "code",
   "execution_count": 18,
   "id": "526bd52c",
   "metadata": {},
   "outputs": [],
   "source": [
    "data = random.normal(size = 3000)"
   ]
  },
  {
   "cell_type": "code",
   "execution_count": 22,
   "id": "a7177e53",
   "metadata": {},
   "outputs": [
    {
     "data": {
      "image/png": "[encoded data removed]",
      "text/plain": [
       "<Figure size 360x360 with 1 Axes>"
      ]
     },
     "metadata": {
      "needs_background": "light"
     },
     "output_type": "display_data"
    }
   ],
   "source": [
    "sns.displot(data, kind = 'kde')\n",
    "plt.show()"
   ]
  },
  {
   "cell_type": "code",
   "execution_count": 27,
   "id": "4699dfaf",
   "metadata": {},
   "outputs": [
    {
     "data": {
      "image/png": "[encoded data removed]",
      "text/plain": [
       "<Figure size 360x360 with 1 Axes>"
      ]
     },
     "metadata": {
      "needs_background": "light"
     },
     "output_type": "display_data"
    }
   ],
   "source": [
    "sns.displot(data, kind = 'hist')\n",
    "plt.show()"
   ]
  },
  {
   "cell_type": "markdown",
   "id": "deff9993",
   "metadata": {},
   "source": [
    "# Exercício 4\n",
    "A distribuição binomial é uma distribuição discreta de probabilidade e descreve resultados binários, como sucesso e fracasso ou cara e coroa, por exemplo. Podemos criar dados aleatórios para esta distribuição com a função np.random.binomial().Sendo:\n",
    "\n",
    "n: número de tentativas;\n",
    "\n",
    "p: probabilidade de ocorrência de cada tentativa;\n",
    "\n",
    "size: tamanho do vetor retornado (shape).\n",
    "\n",
    "Com base nestas informações:\n",
    "\n",
    "Gere números aleatórios seguindo uma distribuição binomial, com 6 tentativas, em que a probabilidade de ocorrência de cada tentativa é 0.5, e tamanho 100. Armazene os dados em uma variável, 'data1'.\n",
    "\n",
    "Gere números aleatórios seguindo uma distribuição binomial, com 2 tentativas, em que a probabilidade de ocorrência de cada tentativa é 0.8, e tamanho 1000. Armazene os dados em uma variável, 'data2'."
   ]
  },
  {
   "cell_type": "code",
   "execution_count": 36,
   "id": "e489fe58",
   "metadata": {},
   "outputs": [],
   "source": [
    "from numpy import random\n",
    "import matplotlib.pyplot as plt\n",
    "import seaborn as sns\n",
    "\n",
    "n1, p1 = 6, 0.5\n",
    "data1 = random.binomial(n1, p1, size = 100)\n",
    "n2, p2 = 2, 0.8\n",
    "data2 = random.binomial(n2, p2, size = 10000)"
   ]
  },
  {
   "cell_type": "code",
   "execution_count": 33,
   "id": "9becc85e",
   "metadata": {},
   "outputs": [
    {
     "data": {
      "text/plain": [
       "<seaborn.axisgrid.FacetGrid at 0x7f4fe2909220>"
      ]
     },
     "execution_count": 33,
     "metadata": {},
     "output_type": "execute_result"
    },
    {
     "data": {
      "image/png": "[encoded data removed]",
      "text/plain": [
       "<Figure size 360x360 with 1 Axes>"
      ]
     },
     "metadata": {
      "needs_background": "light"
     },
     "output_type": "display_data"
    }
   ],
   "source": [
    "sns.displot(data1, kind = 'hist')"
   ]
  },
  {
   "cell_type": "code",
   "execution_count": 37,
   "id": "3e177603",
   "metadata": {},
   "outputs": [
    {
     "data": {
      "text/plain": [
       "<seaborn.axisgrid.FacetGrid at 0x7f4fe2b13280>"
      ]
     },
     "execution_count": 37,
     "metadata": {},
     "output_type": "execute_result"
    },
    {
     "data": {
      "image/png": "[encoded data removed]",
      "text/plain": [
       "<Figure size 360x360 with 1 Axes>"
      ]
     },
     "metadata": {
      "needs_background": "light"
     },
     "output_type": "display_data"
    }
   ],
   "source": [
    "sns.displot(data2, kind = ('hist'))"
   ]
  },
  {
   "cell_type": "markdown",
   "id": "e2c0ced9",
   "metadata": {},
   "source": [
    "# Exercício 5\n",
    "Use o módulo Seaborn para visualizar a distribuição de números aleatórios oriunda de uma distribuição binomial, com 6 tentativas, probabilidade 0.5 e tamanho 3000."
   ]
  },
  {
   "cell_type": "code",
   "execution_count": 41,
   "id": "f9667ebc",
   "metadata": {},
   "outputs": [
    {
     "data": {
      "text/plain": [
       "<seaborn.axisgrid.FacetGrid at 0x7f4fe2d2b7f0>"
      ]
     },
     "execution_count": 41,
     "metadata": {},
     "output_type": "execute_result"
    },
    {
     "data": {
      "image/png": "[encoded data removed]",
      "text/plain": [
       "<Figure size 360x360 with 1 Axes>"
      ]
     },
     "metadata": {
      "needs_background": "light"
     },
     "output_type": "display_data"
    }
   ],
   "source": [
    "from numpy import random\n",
    "import matplotlib.pyplot as plt\n",
    "import seaborn as sns\n",
    "\n",
    "data = np.random.binomial(6, 0.5, size = 3000)\n",
    "sns.displot(data, kind = ('hist'))"
   ]
  },
  {
   "cell_type": "markdown",
   "id": "7974a8cd",
   "metadata": {},
   "source": [
    "# Exercício 6\n",
    "A distribuição uniforme é uma distribuição contínua de probabilidade, com importantes aplicações em estatística. Gere uma amostra da distribuição uniforme de shape 3 x 3.\n",
    "Dica: use np.random.uniform()."
   ]
  },
  {
   "cell_type": "code",
   "execution_count": 46,
   "id": "6d7395e1",
   "metadata": {},
   "outputs": [
    {
     "data": {
      "text/plain": [
       "array([[0.91277852, 0.58806992, 0.75698017],\n",
       "       [0.22387851, 0.7374933 , 0.36856002],\n",
       "       [0.41788545, 0.82903875, 0.74733246]])"
      ]
     },
     "execution_count": 46,
     "metadata": {},
     "output_type": "execute_result"
    }
   ],
   "source": [
    "from numpy import random\n",
    "import matplotlib.pyplot as plt\n",
    "import seaborn as sns\n",
    "\n",
    "data = random.uniform(size = (3,3))\n",
    "data"
   ]
  },
  {
   "cell_type": "markdown",
   "id": "52ce30c3",
   "metadata": {},
   "source": [
    "# Exercício 7\n",
    "Use o módulo Seaborn para visualizar a distribuição de números aleatórios oriunda de uma distribuição uniforme, de tamanho 1000."
   ]
  },
  {
   "cell_type": "code",
   "execution_count": 55,
   "id": "c9ff56d0",
   "metadata": {},
   "outputs": [
    {
     "data": {
      "image/png": "[encoded data removed]",
      "text/plain": [
       "<Figure size 360x360 with 1 Axes>"
      ]
     },
     "metadata": {
      "needs_background": "light"
     },
     "output_type": "display_data"
    }
   ],
   "source": [
    "from numpy import random\n",
    "import matplotlib.pyplot as plt\n",
    "import seaborn as sns\n",
    "\n",
    "data = random.uniform(size = 1000)\n",
    "sns.displot(data, kind = 'hist')\n",
    "plt.show()"
   ]
  },
  {
   "cell_type": "code",
   "execution_count": 57,
   "id": "bffc2835",
   "metadata": {},
   "outputs": [
    {
     "data": {
      "image/png": "[encoded data removed]",
      "text/plain": [
       "<Figure size 360x360 with 1 Axes>"
      ]
     },
     "metadata": {
      "needs_background": "light"
     },
     "output_type": "display_data"
    }
   ],
   "source": [
    "sns.displot(data, kind = 'kde')\n",
    "plt.show()"
   ]
  },
  {
   "cell_type": "markdown",
   "id": "0ec78eed",
   "metadata": {},
   "source": [
    "# Exercício 8\n",
    "Gere um array com números aleatórios entre -1000 e 3000, de shape (30, 5).\n",
    "Dica: np.random.randint()."
   ]
  },
  {
   "cell_type": "code",
   "execution_count": 58,
   "id": "4e16db22",
   "metadata": {},
   "outputs": [
    {
     "data": {
      "text/plain": [
       "array([[1103, 2006, -969, 1208,  887],\n",
       "       [1561, -542,  235, 1207, -984],\n",
       "       [2275,  854,  283, 2608,  482],\n",
       "       [2396, -955, 2131, 2701, 2555],\n",
       "       [1313, -440,  270, -750, 2640],\n",
       "       [-468,  887,  768, 2810, 1500],\n",
       "       [1537, 2844, 1448, 1849, 1474],\n",
       "       [ -40, 1712, 1996,  848, 2101],\n",
       "       [ 478, 1254, 1702,  856,  555],\n",
       "       [ 335, 1422, -996, 1775, 1712],\n",
       "       [1165, 2710, -999, -881,  815],\n",
       "       [-557, -208, -879, 1016,  379],\n",
       "       [-301, 2060, -976, 1907,  -61],\n",
       "       [-699, -281, 2401, 2197, 1572],\n",
       "       [-124, 1032, -952, 1081, -773],\n",
       "       [2500, 2713, 2260,  -57,  -59],\n",
       "       [-325, 1678,  105, -423, 2663],\n",
       "       [ 622,  -12, 1727, 1748, -479],\n",
       "       [-358, 1788, 2537, -959, 2371],\n",
       "       [1507, 2083,  767, 1669, 2434],\n",
       "       [2232, 1605, -469, 1709, 2275],\n",
       "       [ 645, -934, 2995, 2625, -707],\n",
       "       [2813, -248,  880, -352, 1877],\n",
       "       [-441,  253,  521, 2404, 2276],\n",
       "       [1688, -296, 1766,  864, 1050],\n",
       "       [ 839, -393, 1998,  362, 2659],\n",
       "       [1012, 2653, 1911,  199, 1430],\n",
       "       [ 137, -956, 2243, -475,  368],\n",
       "       [2227, 2038, 1709, 2487, 1144],\n",
       "       [ 495, -916, 1126, 2834,  576]])"
      ]
     },
     "execution_count": 58,
     "metadata": {},
     "output_type": "execute_result"
    }
   ],
   "source": [
    "from numpy import random\n",
    "\n",
    "data = random.randint(low = -1000, highe = 3000, size = (30, 5))\n",
    "data"
   ]
  },
  {
   "cell_type": "markdown",
   "id": "b86389c0",
   "metadata": {},
   "source": [
    "# Exercício 9\n",
    "Gere um array de shape 30 x 5 com números entre 0 e 4, inclusive."
   ]
  },
  {
   "cell_type": "code",
   "execution_count": 61,
   "id": "2f64f1ba",
   "metadata": {},
   "outputs": [
    {
     "data": {
      "text/plain": [
       "array([[4, 3, 1, 4, 4],\n",
       "       [0, 4, 1, 2, 1],\n",
       "       [2, 2, 2, 1, 1],\n",
       "       [1, 2, 3, 1, 4],\n",
       "       [4, 2, 4, 1, 2],\n",
       "       [2, 3, 0, 2, 3],\n",
       "       [1, 4, 4, 0, 0],\n",
       "       [1, 0, 3, 1, 0],\n",
       "       [2, 0, 1, 0, 2],\n",
       "       [4, 3, 2, 4, 3],\n",
       "       [3, 4, 4, 1, 2],\n",
       "       [1, 0, 0, 4, 0],\n",
       "       [3, 1, 3, 2, 4],\n",
       "       [1, 2, 2, 0, 2],\n",
       "       [0, 0, 3, 1, 2],\n",
       "       [3, 1, 4, 4, 0],\n",
       "       [1, 2, 4, 1, 4],\n",
       "       [3, 0, 4, 2, 1],\n",
       "       [1, 2, 1, 4, 2],\n",
       "       [4, 1, 0, 4, 1],\n",
       "       [4, 3, 2, 3, 1],\n",
       "       [0, 1, 0, 3, 1],\n",
       "       [3, 4, 0, 2, 0],\n",
       "       [4, 1, 3, 0, 4],\n",
       "       [0, 4, 2, 4, 4],\n",
       "       [4, 2, 2, 3, 1],\n",
       "       [4, 2, 1, 0, 0],\n",
       "       [4, 4, 2, 2, 0],\n",
       "       [0, 2, 2, 3, 4],\n",
       "       [2, 2, 1, 3, 3]])"
      ]
     },
     "execution_count": 61,
     "metadata": {},
     "output_type": "execute_result"
    }
   ],
   "source": [
    "import numpy as np\n",
    "\n",
    "data = np.random.randint(4+1, size=(30,5))\n",
    "data"
   ]
  },
  {
   "cell_type": "markdown",
   "id": "9a675947",
   "metadata": {},
   "source": [
    "# Exercício 10\n",
    "\n",
    "Gere um array de números inteiros com limites superiores diferentes (100, 300, 50, 10000), mas com valor mínimo 10."
   ]
  },
  {
   "cell_type": "code",
   "execution_count": 62,
   "id": "44722eaa",
   "metadata": {},
   "outputs": [
    {
     "data": {
      "text/plain": [
       "array([  26,  138,   46, 9251])"
      ]
     },
     "execution_count": 62,
     "metadata": {},
     "output_type": "execute_result"
    }
   ],
   "source": [
    "import numpy as np\n",
    "ar = np.random.randint(low = 10, high =[100, 300, 50, 10000])\n",
    "ar"
   ]
  },
  {
   "cell_type": "markdown",
   "id": "5b7d84ef",
   "metadata": {},
   "source": [
    "# Exercício 11\n",
    "Utilize a função np.random.rand() para gerar um array 10 x 5. Lembre que esta função gera por padrão números aleatórios de acordo com uma distribuição uniforme no intervalo [0,1). Em seguida mostre na tela a média, desvio padrão e mediana do array gerado."
   ]
  },
  {
   "cell_type": "code",
   "execution_count": 1,
   "id": "c178aa60",
   "metadata": {},
   "outputs": [
    {
     "data": {
      "text/plain": [
       "array([[0.93532777, 0.61097498, 0.609756  , 0.9600135 , 0.34892175],\n",
       "       [0.92067034, 0.98979233, 0.64800587, 0.99165654, 0.84524409],\n",
       "       [0.70140806, 0.83339762, 0.17747117, 0.43711944, 0.7313399 ],\n",
       "       [0.37239011, 0.44293171, 0.73484571, 0.03725606, 0.12064985],\n",
       "       [0.99809942, 0.27440763, 0.97928065, 0.69033333, 0.28363515],\n",
       "       [0.64108707, 0.38908652, 0.6031219 , 0.66666453, 0.19102064],\n",
       "       [0.39670708, 0.95588105, 0.17071972, 0.83811034, 0.45752577],\n",
       "       [0.28894333, 0.90731348, 0.29552851, 0.48032692, 0.44827008],\n",
       "       [0.57379395, 0.01318571, 0.73600768, 0.21901526, 0.06711167],\n",
       "       [0.12569606, 0.58105315, 0.89194757, 0.26783877, 0.73857262]])"
      ]
     },
     "execution_count": 1,
     "metadata": {},
     "output_type": "execute_result"
    }
   ],
   "source": [
    "import numpy as np\n",
    "\n",
    "array = np.random.rand(10,5)\n",
    "array"
   ]
  },
  {
   "cell_type": "code",
   "execution_count": 5,
   "id": "73f5e6c3",
   "metadata": {},
   "outputs": [
    {
     "name": "stdout",
     "output_type": "stream",
     "text": [
      "Média: 0.5523891669261738\n",
      "Desvio Padrão: 0.29354725022140155\n",
      "Mediana: 0.5920875214194711\n"
     ]
    }
   ],
   "source": [
    "media = np.mean(array)\n",
    "desvio_padrao = np.std(array)\n",
    "mediana = np.median(array)\n",
    "\n",
    "print(f'Média: {media}')\n",
    "print(f'Desvio Padrão: {desvio_padrao}')\n",
    "print(f'Mediana: {mediana}')"
   ]
  },
  {
   "cell_type": "markdown",
   "id": "556108fd",
   "metadata": {},
   "source": [
    "# Exercício 12\n",
    "Use a função np.random.randn() para gerar um array com números aleatórios de uma distribuição normal padrão, de shape 30 x 3. Seguidamente, crie um DataFrame com os dados criados e gere uma visualização da distribuição de probabilidade de cada coluna com o módulo Seaborn."
   ]
  },
  {
   "cell_type": "code",
   "execution_count": 12,
   "id": "de2a890d",
   "metadata": {},
   "outputs": [
    {
     "data": {
      "text/html": [
       "<div>\n",
       "<style scoped>\n",
       "    .dataframe tbody tr th:only-of-type {\n",
       "        vertical-align: middle;\n",
       "    }\n",
       "\n",
       "    .dataframe tbody tr th {\n",
       "        vertical-align: top;\n",
       "    }\n",
       "\n",
       "    .dataframe thead th {\n",
       "        text-align: right;\n",
       "    }\n",
       "</style>\n",
       "<table border=\"1\" class=\"dataframe\">\n",
       "  <thead>\n",
       "    <tr style=\"text-align: right;\">\n",
       "      <th></th>\n",
       "      <th>A</th>\n",
       "      <th>B</th>\n",
       "      <th>C</th>\n",
       "    </tr>\n",
       "  </thead>\n",
       "  <tbody>\n",
       "    <tr>\n",
       "      <th>0</th>\n",
       "      <td>-0.404761</td>\n",
       "      <td>-0.060387</td>\n",
       "      <td>-0.084645</td>\n",
       "    </tr>\n",
       "    <tr>\n",
       "      <th>1</th>\n",
       "      <td>-0.594580</td>\n",
       "      <td>0.706509</td>\n",
       "      <td>1.666381</td>\n",
       "    </tr>\n",
       "    <tr>\n",
       "      <th>2</th>\n",
       "      <td>-1.037754</td>\n",
       "      <td>-0.014389</td>\n",
       "      <td>-1.543692</td>\n",
       "    </tr>\n",
       "    <tr>\n",
       "      <th>3</th>\n",
       "      <td>0.644001</td>\n",
       "      <td>-0.971634</td>\n",
       "      <td>1.035148</td>\n",
       "    </tr>\n",
       "    <tr>\n",
       "      <th>4</th>\n",
       "      <td>1.454141</td>\n",
       "      <td>-0.150916</td>\n",
       "      <td>0.593348</td>\n",
       "    </tr>\n",
       "  </tbody>\n",
       "</table>\n",
       "</div>"
      ],
      "text/plain": [
       "          A         B         C\n",
       "0 -0.404761 -0.060387 -0.084645\n",
       "1 -0.594580  0.706509  1.666381\n",
       "2 -1.037754 -0.014389 -1.543692\n",
       "3  0.644001 -0.971634  1.035148\n",
       "4  1.454141 -0.150916  0.593348"
      ]
     },
     "execution_count": 12,
     "metadata": {},
     "output_type": "execute_result"
    }
   ],
   "source": [
    "import numpy as np\n",
    "import pandas as pd\n",
    "import matplotlib.pyplot as plt\n",
    "import seaborn as sns\n",
    "\n",
    "aleatorio = np.random.randn(30,3)\n",
    "df = pd.DataFrame(data = aleatorio, columns = list('ABC'))\n",
    "df.head()"
   ]
  },
  {
   "cell_type": "code",
   "execution_count": 13,
   "id": "b49ecf4c",
   "metadata": {},
   "outputs": [
    {
     "data": {
      "image/png": "[encoded data removed]",
      "text/plain": [
       "<Figure size 402.875x360 with 1 Axes>"
      ]
     },
     "metadata": {
      "needs_background": "light"
     },
     "output_type": "display_data"
    }
   ],
   "source": [
    "sns.displot(df)\n",
    "plt.show()"
   ]
  },
  {
   "cell_type": "markdown",
   "id": "199d4a1f",
   "metadata": {},
   "source": [
    "# Exercício 13\n",
    "Gere um array com 800 números aleatórios de acordo com uma distribuição exponencial padrão. Use a função np.random.standard_exponential()."
   ]
  },
  {
   "cell_type": "code",
   "execution_count": 18,
   "id": "5333f29e",
   "metadata": {},
   "outputs": [
    {
     "data": {
      "text/plain": [
       "800"
      ]
     },
     "execution_count": 18,
     "metadata": {},
     "output_type": "execute_result"
    }
   ],
   "source": [
    "import numpy as np\n",
    "\n",
    "array = np.random.standard_exponential(800)\n",
    "len(array)"
   ]
  },
  {
   "cell_type": "markdown",
   "id": "7375ed64",
   "metadata": {},
   "source": [
    "# Exercício 14\n",
    "A distribuição de Poisson é uma distribuição discreta de probabilidade. Esta distribuição descreve quantas vezes um determinado evento pode ocorrer em um tempo especificado. A biblioteca NumPy permite gerar números aleatórios desta distribuição com a função np.random.poisson(). Gere uma distribuição aleatória de shape 50 x 3, com número conhecido de ocorrências igual a 5."
   ]
  },
  {
   "cell_type": "code",
   "execution_count": 23,
   "id": "f03d5a54",
   "metadata": {},
   "outputs": [
    {
     "data": {
      "text/plain": [
       "array([[ 5,  5,  7],\n",
       "       [ 5,  4,  1],\n",
       "       [ 7,  4,  5],\n",
       "       [ 6,  5, 11],\n",
       "       [ 3,  5,  9],\n",
       "       [ 7,  6,  3],\n",
       "       [ 2,  2,  5],\n",
       "       [ 6,  8,  5],\n",
       "       [ 2,  4,  3],\n",
       "       [ 5,  7,  5],\n",
       "       [ 6,  1,  3],\n",
       "       [11,  4, 10],\n",
       "       [ 4,  5,  2],\n",
       "       [ 7, 10,  4],\n",
       "       [ 6,  5,  4],\n",
       "       [ 3,  7,  3],\n",
       "       [ 8,  6,  6],\n",
       "       [ 3, 10,  4],\n",
       "       [ 4,  5,  3],\n",
       "       [ 6,  5,  5],\n",
       "       [ 4,  2, 10],\n",
       "       [ 5,  3,  5],\n",
       "       [ 7,  3,  1],\n",
       "       [ 3,  5,  7],\n",
       "       [ 4,  3,  7],\n",
       "       [ 4,  2,  5],\n",
       "       [ 6,  2,  8],\n",
       "       [ 7,  7,  6],\n",
       "       [ 8,  7,  3],\n",
       "       [ 6,  4,  3],\n",
       "       [ 5,  6,  5],\n",
       "       [ 6,  0,  7],\n",
       "       [ 6,  6,  5],\n",
       "       [ 5,  4,  6],\n",
       "       [ 6,  7,  4],\n",
       "       [ 4,  5,  2],\n",
       "       [ 1,  2,  5],\n",
       "       [ 2,  4,  3],\n",
       "       [ 5,  4,  6],\n",
       "       [ 5,  5,  4],\n",
       "       [ 3,  4,  4],\n",
       "       [ 1,  4,  5],\n",
       "       [10,  8,  3],\n",
       "       [ 2,  2,  4],\n",
       "       [ 6,  4,  8],\n",
       "       [ 3,  4,  3],\n",
       "       [ 1,  1,  4],\n",
       "       [ 8,  4, 10],\n",
       "       [12,  4,  7],\n",
       "       [ 2,  5,  2]])"
      ]
     },
     "execution_count": 23,
     "metadata": {},
     "output_type": "execute_result"
    }
   ],
   "source": [
    "import numpy as np\n",
    "\n",
    "arr = np.random.poisson(lam = 5,size = (50,3))\n",
    "arr"
   ]
  },
  {
   "cell_type": "markdown",
   "id": "27575684",
   "metadata": {},
   "source": [
    "# Exercício 15\n",
    "Gere uma distribuição aleatória de Poisson com 10.000 amostras, em que o número conhecido de ocorrências é igual 3. Armazene os dados em um objeto Pandas Series"
   ]
  },
  {
   "cell_type": "code",
   "execution_count": 27,
   "id": "e610c95d",
   "metadata": {},
   "outputs": [
    {
     "data": {
      "text/plain": [
       "0       1\n",
       "1       4\n",
       "2       1\n",
       "3       3\n",
       "4       5\n",
       "       ..\n",
       "9995    1\n",
       "9996    1\n",
       "9997    3\n",
       "9998    5\n",
       "9999    4\n",
       "Name: Poisson, Length: 10000, dtype: int64"
      ]
     },
     "execution_count": 27,
     "metadata": {},
     "output_type": "execute_result"
    }
   ],
   "source": [
    "import numpy as np\n",
    "import pandas as pd\n",
    "import matplotlib.pyplot as plt\n",
    "import seaborn as sns\n",
    "\n",
    "arr = np.random.poisson(lam = 3, size = 10000)\n",
    "serie = pd.Series(arr, name = 'Poisson')\n",
    "serie"
   ]
  },
  {
   "cell_type": "code",
   "execution_count": 32,
   "id": "e3f50365",
   "metadata": {},
   "outputs": [
    {
     "data": {
      "image/png": "[encoded data removed]",
      "text/plain": [
       "<Figure size 432x288 with 1 Axes>"
      ]
     },
     "metadata": {
      "needs_background": "light"
     },
     "output_type": "display_data"
    }
   ],
   "source": [
    "sns.histplot(serie, kde =  True)\n",
    "plt.show()"
   ]
  },
  {
   "cell_type": "markdown",
   "id": "a858aa11",
   "metadata": {},
   "source": [
    "# Exercício 16\n",
    "A função np.random.choice() gera uma amostra aleatória de um array unidimensional. Gere uma amostra aleatória de tamanho 10, a partir das letras 'a', 'b', 'c', 'd'."
   ]
  },
  {
   "cell_type": "code",
   "execution_count": 36,
   "id": "b572333f",
   "metadata": {},
   "outputs": [
    {
     "data": {
      "text/plain": [
       "array(['b', 'b', 'd', 'c', 'd', 'd', 'd', 'd', 'a', 'd'], dtype='<U1')"
      ]
     },
     "execution_count": 36,
     "metadata": {},
     "output_type": "execute_result"
    }
   ],
   "source": [
    "import numpy as np\n",
    "\n",
    "arr = np.random.choice(['a','b','c','d'], size = 10)\n",
    "arr"
   ]
  },
  {
   "cell_type": "markdown",
   "id": "536bd8c0",
   "metadata": {},
   "source": [
    "# Exercício 17\n",
    "Gere um DataFrame com 7 colunas e 100 linhas, com as seguintes características:\n",
    "\n",
    "a coluna 'A' segue uma distribuição normal padrão;\n",
    "\n",
    "a coluna 'B' segue uma distribuição uniforme;\n",
    "\n",
    "a coluna 'C' segue uma distribuição binomial, com 6 tentativas e probabilidade de sucesso 0.6;\n",
    "\n",
    "a coluna 'D' segue uma distribuição exponencial padrão;\n",
    "\n",
    "a coluna 'E' segue uma distribuição de Poisson com número conhecido de ocorrências igual a 10;\n",
    "\n",
    "a coluna 'F' segue uma distribuição normal de média 100 e desvio padrão 15;\n",
    "\n",
    "a coluna 'G' possui números aleatórios inteiros entre 50 e 3000."
   ]
  },
  {
   "cell_type": "code",
   "execution_count": 40,
   "id": "330db0b0",
   "metadata": {},
   "outputs": [
    {
     "data": {
      "text/html": [
       "<div>\n",
       "<style scoped>\n",
       "    .dataframe tbody tr th:only-of-type {\n",
       "        vertical-align: middle;\n",
       "    }\n",
       "\n",
       "    .dataframe tbody tr th {\n",
       "        vertical-align: top;\n",
       "    }\n",
       "\n",
       "    .dataframe thead th {\n",
       "        text-align: right;\n",
       "    }\n",
       "</style>\n",
       "<table border=\"1\" class=\"dataframe\">\n",
       "  <thead>\n",
       "    <tr style=\"text-align: right;\">\n",
       "      <th></th>\n",
       "      <th>A</th>\n",
       "      <th>B</th>\n",
       "      <th>C</th>\n",
       "      <th>D</th>\n",
       "      <th>E</th>\n",
       "      <th>F</th>\n",
       "      <th>G</th>\n",
       "    </tr>\n",
       "  </thead>\n",
       "  <tbody>\n",
       "    <tr>\n",
       "      <th>0</th>\n",
       "      <td>0.319586</td>\n",
       "      <td>0.461647</td>\n",
       "      <td>4</td>\n",
       "      <td>0.189590</td>\n",
       "      <td>10</td>\n",
       "      <td>110.063911</td>\n",
       "      <td>1525</td>\n",
       "    </tr>\n",
       "    <tr>\n",
       "      <th>1</th>\n",
       "      <td>-0.956174</td>\n",
       "      <td>0.865925</td>\n",
       "      <td>3</td>\n",
       "      <td>1.134376</td>\n",
       "      <td>10</td>\n",
       "      <td>114.672286</td>\n",
       "      <td>2857</td>\n",
       "    </tr>\n",
       "    <tr>\n",
       "      <th>2</th>\n",
       "      <td>-0.908302</td>\n",
       "      <td>0.783491</td>\n",
       "      <td>3</td>\n",
       "      <td>2.946031</td>\n",
       "      <td>14</td>\n",
       "      <td>118.261108</td>\n",
       "      <td>448</td>\n",
       "    </tr>\n",
       "    <tr>\n",
       "      <th>3</th>\n",
       "      <td>0.352289</td>\n",
       "      <td>0.165481</td>\n",
       "      <td>4</td>\n",
       "      <td>0.432683</td>\n",
       "      <td>9</td>\n",
       "      <td>102.069116</td>\n",
       "      <td>1151</td>\n",
       "    </tr>\n",
       "    <tr>\n",
       "      <th>4</th>\n",
       "      <td>1.046379</td>\n",
       "      <td>0.555447</td>\n",
       "      <td>4</td>\n",
       "      <td>0.078975</td>\n",
       "      <td>12</td>\n",
       "      <td>83.584458</td>\n",
       "      <td>1686</td>\n",
       "    </tr>\n",
       "  </tbody>\n",
       "</table>\n",
       "</div>"
      ],
      "text/plain": [
       "          A         B  C         D   E           F     G\n",
       "0  0.319586  0.461647  4  0.189590  10  110.063911  1525\n",
       "1 -0.956174  0.865925  3  1.134376  10  114.672286  2857\n",
       "2 -0.908302  0.783491  3  2.946031  14  118.261108   448\n",
       "3  0.352289  0.165481  4  0.432683   9  102.069116  1151\n",
       "4  1.046379  0.555447  4  0.078975  12   83.584458  1686"
      ]
     },
     "execution_count": 40,
     "metadata": {},
     "output_type": "execute_result"
    }
   ],
   "source": [
    "import pandas as pd\n",
    "from numpy import random\n",
    "\n",
    "n = 100 # Quantidade de observações\n",
    "\n",
    "data = {\n",
    "    'A': random.normal(size = n),\n",
    "    'B': random.uniform(size = n),\n",
    "    'C': random.binomial(n=6, p = 0.6, size = n),\n",
    "    'D': random.standard_exponential(size = n),\n",
    "    'E': random.poisson(lam = 10, size = n),\n",
    "    'F': random.normal(loc = 100, scale = 15, size = n),\n",
    "    'G': random.randint(low = 50, high = 3000, size = n)\n",
    "}\n",
    "\n",
    "df = pd.DataFrame(data)\n",
    "df.head()"
   ]
  },
  {
   "cell_type": "markdown",
   "id": "9fadb300",
   "metadata": {},
   "source": [
    "# Exercício 18\n",
    "Gere uma amostra da distribuição Qui-Quadrado com 3 graus de liberdade e shape 5 x 5;\n",
    "\n",
    "Gere uma amostra da distribuição Qui-Quadrado com 2 graus de liberdade e tamanho 2.000 e plot um gráfico para visualizar a distribuição de probabilidade gerada;\n",
    "\n",
    "Gere uma amostra de uma distribuição Exponencial com scale 5 e shape 2 x 2."
   ]
  },
  {
   "cell_type": "code",
   "execution_count": 41,
   "id": "b2f681ca",
   "metadata": {},
   "outputs": [],
   "source": [
    "import matplotlib.pyplot as plt\n",
    "import seaborn as sns\n",
    "from numpy import random"
   ]
  },
  {
   "cell_type": "markdown",
   "id": "35a9bfb8",
   "metadata": {},
   "source": [
    "Gere uma amostra da distribuição Qui-Quadrado com 3 graus de liberdade e shape 5 x 5 e plot um gráfico."
   ]
  },
  {
   "cell_type": "code",
   "execution_count": 42,
   "id": "52a17526",
   "metadata": {},
   "outputs": [
    {
     "data": {
      "text/plain": [
       "array([[6.44203469, 3.55150624, 1.71659723, 0.32191717, 4.50821344],\n",
       "       [2.89482965, 1.01852825, 2.02973229, 0.82922699, 4.80364989],\n",
       "       [0.68925425, 2.30841371, 3.30160352, 2.15579225, 2.33363435],\n",
       "       [4.63468455, 3.51880796, 3.16851793, 0.79906565, 2.2666336 ],\n",
       "       [2.23663913, 2.78626475, 1.60737427, 2.19365756, 1.53510506]])"
      ]
     },
     "execution_count": 42,
     "metadata": {},
     "output_type": "execute_result"
    }
   ],
   "source": [
    "arr1 = random.chisquare(df = 3, size = (5, 5))\n",
    "arr1"
   ]
  },
  {
   "cell_type": "markdown",
   "id": "9ef2fb13",
   "metadata": {},
   "source": [
    "Gere uma amostra da distribuição Qui-Quadrado com 2 graus de liberdade e tamanho 2.000 e plot um gráfico."
   ]
  },
  {
   "cell_type": "code",
   "execution_count": 46,
   "id": "df5798b4",
   "metadata": {},
   "outputs": [
    {
     "data": {
      "image/png": "[encoded data removed]",
      "text/plain": [
       "<Figure size 720x576 with 1 Axes>"
      ]
     },
     "metadata": {
      "needs_background": "light"
     },
     "output_type": "display_data"
    }
   ],
   "source": [
    "arr2 = random.chisquare(df = 2, size = 2_000)\n",
    "plt.figure(figsize = (10, 8))\n",
    "sns.histplot(arr2, kde=True, color = 'red')\n",
    "plt.show()"
   ]
  },
  {
   "cell_type": "markdown",
   "id": "df520608",
   "metadata": {},
   "source": [
    "\n",
    "Gere uma amostra de uma distribuição Exponencial com scale 5 e shape 2 x 2."
   ]
  },
  {
   "cell_type": "code",
   "execution_count": 47,
   "id": "86f2fcf3",
   "metadata": {},
   "outputs": [
    {
     "data": {
      "text/plain": [
       "array([[2.64022623, 0.2517753 ],\n",
       "       [5.36178933, 3.46954957]])"
      ]
     },
     "execution_count": 47,
     "metadata": {},
     "output_type": "execute_result"
    }
   ],
   "source": [
    "arr3 = random.exponential(scale = 5, size = (2,2))\n",
    "arr3"
   ]
  },
  {
   "cell_type": "markdown",
   "id": "5f8a5d0f",
   "metadata": {},
   "source": [
    "# Exercício 19\n",
    "A distribuição logística é amplamente utilizada em Machine Learning e Redes Neurais. Gere um vetor com números aleatórios de uma amostra de tamanho 100, gerado por meio de uma distribuição logística com média 5 e desvio padrão 0.9."
   ]
  },
  {
   "cell_type": "code",
   "execution_count": 49,
   "id": "126ef95f",
   "metadata": {},
   "outputs": [
    {
     "data": {
      "text/plain": [
       "array([ 6.17386299,  5.58140534,  9.80803142,  4.63310988,  2.49698489,\n",
       "        6.31802858,  4.96339702,  2.54014693,  5.2761415 ,  4.98914669,\n",
       "        2.77480773,  8.45789566,  1.5089917 ,  5.41062567,  5.54309634,\n",
       "        4.64064275,  6.82239449,  5.34177028,  5.64649176,  2.78782009,\n",
       "        3.54601418,  4.22669823,  6.48098334,  5.05013148,  6.96916296,\n",
       "        4.6114799 ,  3.04989193,  6.36686965,  4.84253479,  6.0942747 ,\n",
       "        3.93286366,  5.01005488,  5.84086085,  5.36393468,  2.89650285,\n",
       "        3.01973136,  4.92126247,  5.75667235,  3.77678162,  4.48216688,\n",
       "        4.91482686,  3.01560435,  5.83645183,  7.39237484,  3.72029186,\n",
       "        5.20072556,  3.92243587,  3.61244684,  4.47043757,  6.40564479,\n",
       "        4.09166296,  3.17159015,  6.80300429,  5.77523154,  5.16604236,\n",
       "        7.39549584,  5.77695997,  4.10932534,  7.6432041 ,  2.86013728,\n",
       "        5.43694268,  3.65951401,  5.41995587,  4.30411059,  8.18030117,\n",
       "       -0.23242505,  5.00086528,  4.51473864,  3.74818141,  4.52181439,\n",
       "        5.39778052,  9.07473461,  2.27344671,  0.67502286,  6.87874863,\n",
       "        5.4075137 ,  6.28724439,  3.85139868,  6.22498413,  5.62657568,\n",
       "        6.18092698, 11.91515283,  6.67395022,  6.46516706,  7.77562404,\n",
       "        7.58746955,  4.80990549,  4.90765294,  5.39306694,  5.34505388,\n",
       "        5.09950085,  2.72319113,  7.08241698,  3.98875168,  5.60830966,\n",
       "        4.42125032,  5.88604755,  6.12227806,  5.7848659 ,  4.68421979])"
      ]
     },
     "execution_count": 49,
     "metadata": {},
     "output_type": "execute_result"
    }
   ],
   "source": [
    "from numpy import random\n",
    "\n",
    "arr = random.logistic(loc = 5, scale = 0.9, size = 100)\n",
    "arr"
   ]
  },
  {
   "cell_type": "markdown",
   "id": "9cfb7800",
   "metadata": {},
   "source": [
    "# Exercício 20\n",
    "Construa dois vetores de tamanho 100, com média 1 e desvio padrão 0.5, sendo que o primeiro segue uma distribuição normal, ao passo que o segundo vetor segue uma distribuição logística. Em seguida construa um DataFrame com os números aleatórios criados e gere um gráfico único que mostre ambas as distribuições aleatórias geradas."
   ]
  },
  {
   "cell_type": "code",
   "execution_count": 55,
   "id": "157c3b37",
   "metadata": {},
   "outputs": [],
   "source": [
    "from numpy import random\n",
    "import pandas as pd\n",
    "import matplotlib.pyplot as plt\n",
    "import seaborn as sns"
   ]
  },
  {
   "cell_type": "markdown",
   "id": "8379b289",
   "metadata": {},
   "source": [
    "Construindo os vetores e armazenando em um DataFrame:"
   ]
  },
  {
   "cell_type": "code",
   "execution_count": 57,
   "id": "ae6a6c04",
   "metadata": {},
   "outputs": [],
   "source": [
    "arr1 = random.normal(loc = 1, scale = 0.5, size = 100)\n",
    "arr2 = random.logistic(loc = 1, scale = 0.5, size = 100)\n",
    "df = pd.DataFrame({'Normal': arr1, 'Logistic': arr2})"
   ]
  },
  {
   "cell_type": "markdown",
   "id": "687542fe",
   "metadata": {},
   "source": [
    "Construindo o plot:"
   ]
  },
  {
   "cell_type": "code",
   "execution_count": 59,
   "id": "887190c0",
   "metadata": {},
   "outputs": [
    {
     "data": {
      "image/png": "[encoded data removed]",
      "text/plain": [
       "<Figure size 576x360 with 1 Axes>"
      ]
     },
     "metadata": {
      "needs_background": "light"
     },
     "output_type": "display_data"
    }
   ],
   "source": [
    "dist = ['Normal', 'Logistic']\n",
    "plt.figure(figsize = (8, 5))\n",
    "sns.kdeplot(data = df, x = 'Normal')\n",
    "sns.kdeplot(data = df, x = 'Logistic')\n",
    "plt.legend(dist, loc = 'upper left')\n",
    "plt.xlabel('Valores')\n",
    "plt.show()"
   ]
  }
 ],
 "metadata": {
  "kernelspec": {
   "display_name": "Python 3",
   "language": "python",
   "name": "python3"
  },
  "language_info": {
   "codemirror_mode": {
    "name": "ipython",
    "version": 3
   },
   "file_extension": ".py",
   "mimetype": "text/x-python",
   "name": "python",
   "nbconvert_exporter": "python",
   "pygments_lexer": "ipython3",
   "version": "3.8.8"
  }
 },
 "nbformat": 4,
 "nbformat_minor": 5
}
